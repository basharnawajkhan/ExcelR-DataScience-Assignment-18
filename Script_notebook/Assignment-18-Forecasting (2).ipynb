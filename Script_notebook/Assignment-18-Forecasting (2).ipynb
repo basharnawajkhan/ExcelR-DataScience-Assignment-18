{
 "cells": [
  {
   "cell_type": "markdown",
   "id": "acb2bd21",
   "metadata": {},
   "source": [
    "# Forecasting - CocaCola Sales Data"
   ]
  },
  {
   "cell_type": "code",
   "execution_count": 1,
   "id": "42e0e591",
   "metadata": {},
   "outputs": [],
   "source": [
    "import numpy as np\n",
    "import pandas as pd\n",
    "import seaborn as sns\n",
    "import matplotlib.pyplot as plt\n",
    "import statsmodels.graphics.tsaplots as tsa_plots\n",
    "\n",
    "from pandas import Grouper\n",
    "from statsmodels.tsa.seasonal import seasonal_decompose\n",
    "import statsmodels.formula.api as smf\n",
    "\n",
    "import warnings\n",
    "warnings.filterwarnings('ignore')"
   ]
  },
  {
   "cell_type": "code",
   "execution_count": 2,
   "id": "4ed984df",
   "metadata": {},
   "outputs": [
    {
     "data": {
      "text/html": [
       "<div>\n",
       "<style scoped>\n",
       "    .dataframe tbody tr th:only-of-type {\n",
       "        vertical-align: middle;\n",
       "    }\n",
       "\n",
       "    .dataframe tbody tr th {\n",
       "        vertical-align: top;\n",
       "    }\n",
       "\n",
       "    .dataframe thead th {\n",
       "        text-align: right;\n",
       "    }\n",
       "</style>\n",
       "<table border=\"1\" class=\"dataframe\">\n",
       "  <thead>\n",
       "    <tr style=\"text-align: right;\">\n",
       "      <th></th>\n",
       "      <th>Quarter</th>\n",
       "      <th>Sales</th>\n",
       "    </tr>\n",
       "  </thead>\n",
       "  <tbody>\n",
       "    <tr>\n",
       "      <th>0</th>\n",
       "      <td>Q1_86</td>\n",
       "      <td>1734.827000</td>\n",
       "    </tr>\n",
       "    <tr>\n",
       "      <th>1</th>\n",
       "      <td>Q2_86</td>\n",
       "      <td>2244.960999</td>\n",
       "    </tr>\n",
       "    <tr>\n",
       "      <th>2</th>\n",
       "      <td>Q3_86</td>\n",
       "      <td>2533.804993</td>\n",
       "    </tr>\n",
       "    <tr>\n",
       "      <th>3</th>\n",
       "      <td>Q4_86</td>\n",
       "      <td>2154.962997</td>\n",
       "    </tr>\n",
       "    <tr>\n",
       "      <th>4</th>\n",
       "      <td>Q1_87</td>\n",
       "      <td>1547.818996</td>\n",
       "    </tr>\n",
       "  </tbody>\n",
       "</table>\n",
       "</div>"
      ],
      "text/plain": [
       "  Quarter        Sales\n",
       "0   Q1_86  1734.827000\n",
       "1   Q2_86  2244.960999\n",
       "2   Q3_86  2533.804993\n",
       "3   Q4_86  2154.962997\n",
       "4   Q1_87  1547.818996"
      ]
     },
     "execution_count": 2,
     "metadata": {},
     "output_type": "execute_result"
    }
   ],
   "source": [
    "data = pd.read_csv(\"C:/Users/BASHAR/OneDrive/Documents/Data Science/Assignment/Assignment - 18/CocaCola_Sales_Rawdata.csv\")\n",
    "data.head()"
   ]
  },
  {
   "cell_type": "code",
   "execution_count": 3,
   "id": "49b8d2d2",
   "metadata": {},
   "outputs": [
    {
     "data": {
      "text/html": [
       "<div>\n",
       "<style scoped>\n",
       "    .dataframe tbody tr th:only-of-type {\n",
       "        vertical-align: middle;\n",
       "    }\n",
       "\n",
       "    .dataframe tbody tr th {\n",
       "        vertical-align: top;\n",
       "    }\n",
       "\n",
       "    .dataframe thead th {\n",
       "        text-align: right;\n",
       "    }\n",
       "</style>\n",
       "<table border=\"1\" class=\"dataframe\">\n",
       "  <thead>\n",
       "    <tr style=\"text-align: right;\">\n",
       "      <th></th>\n",
       "      <th>Quarter</th>\n",
       "      <th>Sales</th>\n",
       "      <th>quater</th>\n",
       "    </tr>\n",
       "  </thead>\n",
       "  <tbody>\n",
       "    <tr>\n",
       "      <th>0</th>\n",
       "      <td>Q1_86</td>\n",
       "      <td>1734.827000</td>\n",
       "      <td>Jan-1986</td>\n",
       "    </tr>\n",
       "    <tr>\n",
       "      <th>1</th>\n",
       "      <td>Q2_86</td>\n",
       "      <td>2244.960999</td>\n",
       "      <td>Apr-1986</td>\n",
       "    </tr>\n",
       "    <tr>\n",
       "      <th>2</th>\n",
       "      <td>Q3_86</td>\n",
       "      <td>2533.804993</td>\n",
       "      <td>Jul-1986</td>\n",
       "    </tr>\n",
       "    <tr>\n",
       "      <th>3</th>\n",
       "      <td>Q4_86</td>\n",
       "      <td>2154.962997</td>\n",
       "      <td>Oct-1986</td>\n",
       "    </tr>\n",
       "    <tr>\n",
       "      <th>4</th>\n",
       "      <td>Q1_87</td>\n",
       "      <td>1547.818996</td>\n",
       "      <td>Jan-1987</td>\n",
       "    </tr>\n",
       "  </tbody>\n",
       "</table>\n",
       "</div>"
      ],
      "text/plain": [
       "  Quarter        Sales    quater\n",
       "0   Q1_86  1734.827000  Jan-1986\n",
       "1   Q2_86  2244.960999  Apr-1986\n",
       "2   Q3_86  2533.804993  Jul-1986\n",
       "3   Q4_86  2154.962997  Oct-1986\n",
       "4   Q1_87  1547.818996  Jan-1987"
      ]
     },
     "execution_count": 3,
     "metadata": {},
     "output_type": "execute_result"
    }
   ],
   "source": [
    "temp = data.Quarter.str.replace(r'(Q\\d)_(\\d+)', r'19\\2-\\1')\n",
    "data['quater'] = pd.to_datetime(temp).dt.strftime('%b-%Y')\n",
    "data.head()"
   ]
  },
  {
   "cell_type": "code",
   "execution_count": 4,
   "id": "8aaac6f3",
   "metadata": {},
   "outputs": [
    {
     "data": {
      "text/html": [
       "<div>\n",
       "<style scoped>\n",
       "    .dataframe tbody tr th:only-of-type {\n",
       "        vertical-align: middle;\n",
       "    }\n",
       "\n",
       "    .dataframe tbody tr th {\n",
       "        vertical-align: top;\n",
       "    }\n",
       "\n",
       "    .dataframe thead th {\n",
       "        text-align: right;\n",
       "    }\n",
       "</style>\n",
       "<table border=\"1\" class=\"dataframe\">\n",
       "  <thead>\n",
       "    <tr style=\"text-align: right;\">\n",
       "      <th></th>\n",
       "      <th>quater</th>\n",
       "      <th>Sales</th>\n",
       "    </tr>\n",
       "  </thead>\n",
       "  <tbody>\n",
       "    <tr>\n",
       "      <th>0</th>\n",
       "      <td>Jan-1986</td>\n",
       "      <td>1734.827000</td>\n",
       "    </tr>\n",
       "    <tr>\n",
       "      <th>1</th>\n",
       "      <td>Apr-1986</td>\n",
       "      <td>2244.960999</td>\n",
       "    </tr>\n",
       "    <tr>\n",
       "      <th>2</th>\n",
       "      <td>Jul-1986</td>\n",
       "      <td>2533.804993</td>\n",
       "    </tr>\n",
       "    <tr>\n",
       "      <th>3</th>\n",
       "      <td>Oct-1986</td>\n",
       "      <td>2154.962997</td>\n",
       "    </tr>\n",
       "    <tr>\n",
       "      <th>4</th>\n",
       "      <td>Jan-1987</td>\n",
       "      <td>1547.818996</td>\n",
       "    </tr>\n",
       "  </tbody>\n",
       "</table>\n",
       "</div>"
      ],
      "text/plain": [
       "     quater        Sales\n",
       "0  Jan-1986  1734.827000\n",
       "1  Apr-1986  2244.960999\n",
       "2  Jul-1986  2533.804993\n",
       "3  Oct-1986  2154.962997\n",
       "4  Jan-1987  1547.818996"
      ]
     },
     "execution_count": 4,
     "metadata": {},
     "output_type": "execute_result"
    }
   ],
   "source": [
    "data1 = data[[\"quater\", \"Sales\"]]\n",
    "data1.head()"
   ]
  },
  {
   "cell_type": "markdown",
   "id": "d2485f23",
   "metadata": {},
   "source": [
    "## EDA"
   ]
  },
  {
   "cell_type": "code",
   "execution_count": 5,
   "id": "5a1e4817",
   "metadata": {},
   "outputs": [
    {
     "name": "stdout",
     "output_type": "stream",
     "text": [
      "<class 'pandas.core.frame.DataFrame'>\n",
      "RangeIndex: 42 entries, 0 to 41\n",
      "Data columns (total 2 columns):\n",
      " #   Column  Non-Null Count  Dtype  \n",
      "---  ------  --------------  -----  \n",
      " 0   quater  42 non-null     object \n",
      " 1   Sales   42 non-null     float64\n",
      "dtypes: float64(1), object(1)\n",
      "memory usage: 800.0+ bytes\n"
     ]
    }
   ],
   "source": [
    "data1.info()"
   ]
  },
  {
   "cell_type": "code",
   "execution_count": 6,
   "id": "cb6d2653",
   "metadata": {},
   "outputs": [
    {
     "data": {
      "text/plain": [
       "quater    0\n",
       "Sales     0\n",
       "dtype: int64"
      ]
     },
     "execution_count": 6,
     "metadata": {},
     "output_type": "execute_result"
    }
   ],
   "source": [
    "data1.isna().sum()"
   ]
  },
  {
   "cell_type": "code",
   "execution_count": 7,
   "id": "a3d6925b",
   "metadata": {},
   "outputs": [
    {
     "data": {
      "text/plain": [
       "(0, 2)"
      ]
     },
     "execution_count": 7,
     "metadata": {},
     "output_type": "execute_result"
    }
   ],
   "source": [
    "data1[data1.duplicated()].shape"
   ]
  },
  {
   "cell_type": "code",
   "execution_count": 8,
   "id": "f6372e07",
   "metadata": {},
   "outputs": [
    {
     "data": {
      "text/html": [
       "<div>\n",
       "<style scoped>\n",
       "    .dataframe tbody tr th:only-of-type {\n",
       "        vertical-align: middle;\n",
       "    }\n",
       "\n",
       "    .dataframe tbody tr th {\n",
       "        vertical-align: top;\n",
       "    }\n",
       "\n",
       "    .dataframe thead th {\n",
       "        text-align: right;\n",
       "    }\n",
       "</style>\n",
       "<table border=\"1\" class=\"dataframe\">\n",
       "  <thead>\n",
       "    <tr style=\"text-align: right;\">\n",
       "      <th></th>\n",
       "      <th>count</th>\n",
       "      <th>mean</th>\n",
       "      <th>std</th>\n",
       "      <th>min</th>\n",
       "      <th>25%</th>\n",
       "      <th>50%</th>\n",
       "      <th>75%</th>\n",
       "      <th>max</th>\n",
       "    </tr>\n",
       "  </thead>\n",
       "  <tbody>\n",
       "    <tr>\n",
       "      <th>Sales</th>\n",
       "      <td>42.0</td>\n",
       "      <td>2994.353308</td>\n",
       "      <td>977.930896</td>\n",
       "      <td>1547.818996</td>\n",
       "      <td>2159.714247</td>\n",
       "      <td>2782.376999</td>\n",
       "      <td>3609.25</td>\n",
       "      <td>5253.0</td>\n",
       "    </tr>\n",
       "  </tbody>\n",
       "</table>\n",
       "</div>"
      ],
      "text/plain": [
       "       count         mean         std          min          25%          50%  \\\n",
       "Sales   42.0  2994.353308  977.930896  1547.818996  2159.714247  2782.376999   \n",
       "\n",
       "           75%     max  \n",
       "Sales  3609.25  5253.0  "
      ]
     },
     "execution_count": 8,
     "metadata": {},
     "output_type": "execute_result"
    }
   ],
   "source": [
    "data1.describe().T"
   ]
  },
  {
   "cell_type": "code",
   "execution_count": 9,
   "id": "1c2b2a04",
   "metadata": {},
   "outputs": [
    {
     "data": {
      "image/png": "[encoded data removed]",
      "text/plain": [
       "<Figure size 432x288 with 1 Axes>"
      ]
     },
     "metadata": {
      "needs_background": "light"
     },
     "output_type": "display_data"
    }
   ],
   "source": [
    "data1.plot()\n",
    "plt.show()"
   ]
  },
  {
   "cell_type": "code",
   "execution_count": 10,
   "id": "78e127bb",
   "metadata": {},
   "outputs": [
    {
     "data": {
      "image/png": "[encoded data removed]",
      "text/plain": [
       "<Figure size 432x288 with 1 Axes>"
      ]
     },
     "metadata": {
      "needs_background": "light"
     },
     "output_type": "display_data"
    }
   ],
   "source": [
    "data1.hist()\n",
    "plt.show()"
   ]
  },
  {
   "cell_type": "code",
   "execution_count": 11,
   "id": "52194831",
   "metadata": {},
   "outputs": [
    {
     "data": {
      "image/png": "[encoded data removed]",
      "text/plain": [
       "<Figure size 432x288 with 1 Axes>"
      ]
     },
     "metadata": {
      "needs_background": "light"
     },
     "output_type": "display_data"
    }
   ],
   "source": [
    "data1.plot(kind=\"kde\")\n",
    "plt.show()"
   ]
  },
  {
   "cell_type": "markdown",
   "id": "1ecff83e",
   "metadata": {},
   "source": [
    "## Moving Average"
   ]
  },
  {
   "cell_type": "code",
   "execution_count": 12,
   "id": "a80a4712",
   "metadata": {},
   "outputs": [
    {
     "data": {
      "text/plain": [
       "<matplotlib.legend.Legend at 0x18543aa51f0>"
      ]
     },
     "execution_count": 12,
     "metadata": {},
     "output_type": "execute_result"
    },
    {
     "data": {
      "image/png": "[encoded data removed]",
      "text/plain": [
       "<Figure size 1008x576 with 1 Axes>"
      ]
     },
     "metadata": {
      "needs_background": "light"
     },
     "output_type": "display_data"
    }
   ],
   "source": [
    "plt.figure(figsize=(14, 8))\n",
    "data1.Sales.plot(label=\"org\")\n",
    "for i in range(2, 20, 4):\n",
    "    data1[\"Sales\"].rolling(i).mean().plot(label=str(i))\n",
    "plt.legend(loc=\"best\")"
   ]
  },
  {
   "cell_type": "markdown",
   "id": "11e66373",
   "metadata": {},
   "source": [
    "## Time series decomposition plot"
   ]
  },
  {
   "cell_type": "code",
   "execution_count": 13,
   "id": "98d96cb4",
   "metadata": {},
   "outputs": [
    {
     "data": {
      "image/png": "[encoded data removed]",
      "text/plain": [
       "<Figure size 432x288 with 4 Axes>"
      ]
     },
     "metadata": {
      "needs_background": "light"
     },
     "output_type": "display_data"
    }
   ],
   "source": [
    "decompose_ts_add = seasonal_decompose(data1.Sales,period=12, model=\"multiplicative\")\n",
    "decompose_ts_add.plot()\n",
    "plt.show()"
   ]
  },
  {
   "cell_type": "markdown",
   "id": "2d732d06",
   "metadata": {},
   "source": [
    "## ACF plots and PACF plots"
   ]
  },
  {
   "cell_type": "code",
   "execution_count": 14,
   "id": "19275d72",
   "metadata": {},
   "outputs": [
    {
     "data": {
      "image/png": "[encoded data removed]",
      "text/plain": [
       "<Figure size 432x288 with 1 Axes>"
      ]
     },
     "metadata": {
      "needs_background": "light"
     },
     "output_type": "display_data"
    },
    {
     "data": {
      "image/png": "[encoded data removed]",
      "text/plain": [
       "<Figure size 432x288 with 1 Axes>"
      ]
     },
     "metadata": {
      "needs_background": "light"
     },
     "output_type": "display_data"
    }
   ],
   "source": [
    "tsa_plots.plot_acf(data1.Sales,lags=12)\n",
    "tsa_plots.plot_pacf(data1.Sales,lags=12)\n",
    "plt.show()"
   ]
  },
  {
   "cell_type": "markdown",
   "id": "41daaba8",
   "metadata": {},
   "source": [
    "## Data Preprocessing"
   ]
  },
  {
   "cell_type": "code",
   "execution_count": 15,
   "id": "a6f17a0c",
   "metadata": {},
   "outputs": [],
   "source": [
    "months = ['Jan','Apr','Jul','Oct']\n",
    "p = data1[\"quater\"][0]\n",
    "p[0:3]\n",
    "data1['months'] = 0"
   ]
  },
  {
   "cell_type": "code",
   "execution_count": 16,
   "id": "f7c13c7d",
   "metadata": {},
   "outputs": [],
   "source": [
    "for i in range(42):\n",
    "    p = data1[\"quater\"][i]\n",
    "    data1['months'][i]= p[0:3]"
   ]
  },
  {
   "cell_type": "code",
   "execution_count": 17,
   "id": "25d8f86b",
   "metadata": {},
   "outputs": [
    {
     "data": {
      "text/html": [
       "<div>\n",
       "<style scoped>\n",
       "    .dataframe tbody tr th:only-of-type {\n",
       "        vertical-align: middle;\n",
       "    }\n",
       "\n",
       "    .dataframe tbody tr th {\n",
       "        vertical-align: top;\n",
       "    }\n",
       "\n",
       "    .dataframe thead th {\n",
       "        text-align: right;\n",
       "    }\n",
       "</style>\n",
       "<table border=\"1\" class=\"dataframe\">\n",
       "  <thead>\n",
       "    <tr style=\"text-align: right;\">\n",
       "      <th></th>\n",
       "      <th>quater</th>\n",
       "      <th>Sales</th>\n",
       "      <th>months</th>\n",
       "      <th>Apr</th>\n",
       "      <th>Jan</th>\n",
       "      <th>Jul</th>\n",
       "      <th>Oct</th>\n",
       "    </tr>\n",
       "  </thead>\n",
       "  <tbody>\n",
       "    <tr>\n",
       "      <th>0</th>\n",
       "      <td>Jan-1986</td>\n",
       "      <td>1734.827000</td>\n",
       "      <td>Jan</td>\n",
       "      <td>0</td>\n",
       "      <td>1</td>\n",
       "      <td>0</td>\n",
       "      <td>0</td>\n",
       "    </tr>\n",
       "    <tr>\n",
       "      <th>1</th>\n",
       "      <td>Apr-1986</td>\n",
       "      <td>2244.960999</td>\n",
       "      <td>Apr</td>\n",
       "      <td>1</td>\n",
       "      <td>0</td>\n",
       "      <td>0</td>\n",
       "      <td>0</td>\n",
       "    </tr>\n",
       "    <tr>\n",
       "      <th>2</th>\n",
       "      <td>Jul-1986</td>\n",
       "      <td>2533.804993</td>\n",
       "      <td>Jul</td>\n",
       "      <td>0</td>\n",
       "      <td>0</td>\n",
       "      <td>1</td>\n",
       "      <td>0</td>\n",
       "    </tr>\n",
       "    <tr>\n",
       "      <th>3</th>\n",
       "      <td>Oct-1986</td>\n",
       "      <td>2154.962997</td>\n",
       "      <td>Oct</td>\n",
       "      <td>0</td>\n",
       "      <td>0</td>\n",
       "      <td>0</td>\n",
       "      <td>1</td>\n",
       "    </tr>\n",
       "    <tr>\n",
       "      <th>4</th>\n",
       "      <td>Jan-1987</td>\n",
       "      <td>1547.818996</td>\n",
       "      <td>Jan</td>\n",
       "      <td>0</td>\n",
       "      <td>1</td>\n",
       "      <td>0</td>\n",
       "      <td>0</td>\n",
       "    </tr>\n",
       "  </tbody>\n",
       "</table>\n",
       "</div>"
      ],
      "text/plain": [
       "     quater        Sales months  Apr  Jan  Jul  Oct\n",
       "0  Jan-1986  1734.827000    Jan    0    1    0    0\n",
       "1  Apr-1986  2244.960999    Apr    1    0    0    0\n",
       "2  Jul-1986  2533.804993    Jul    0    0    1    0\n",
       "3  Oct-1986  2154.962997    Oct    0    0    0    1\n",
       "4  Jan-1987  1547.818996    Jan    0    1    0    0"
      ]
     },
     "execution_count": 17,
     "metadata": {},
     "output_type": "execute_result"
    }
   ],
   "source": [
    "month_dummies = pd.DataFrame(pd.get_dummies(data1['months']))\n",
    "data1 = pd.concat([data1, month_dummies],axis = 1)\n",
    "data1.head()"
   ]
  },
  {
   "cell_type": "code",
   "execution_count": 18,
   "id": "849ade4b",
   "metadata": {},
   "outputs": [],
   "source": [
    "data1[\"t\"] = np.arange(1,43)\n",
    "data1[\"t_squared\"] = data1[\"t\"]*data1[\"t\"]\n",
    "data1[\"log_Sales\"] = np.log(data1[\"Sales\"])"
   ]
  },
  {
   "cell_type": "code",
   "execution_count": 19,
   "id": "85d69930",
   "metadata": {},
   "outputs": [
    {
     "data": {
      "text/plain": [
       "Index(['quater', 'Sales', 'months', 'Apr', 'Jan', 'Jul', 'Oct', 't',\n",
       "       't_squared', 'log_Sales'],\n",
       "      dtype='object')"
      ]
     },
     "execution_count": 19,
     "metadata": {},
     "output_type": "execute_result"
    }
   ],
   "source": [
    "data1.columns"
   ]
  },
  {
   "cell_type": "code",
   "execution_count": 20,
   "id": "5705c74d",
   "metadata": {},
   "outputs": [
    {
     "data": {
      "text/html": [
       "<div>\n",
       "<style scoped>\n",
       "    .dataframe tbody tr th:only-of-type {\n",
       "        vertical-align: middle;\n",
       "    }\n",
       "\n",
       "    .dataframe tbody tr th {\n",
       "        vertical-align: top;\n",
       "    }\n",
       "\n",
       "    .dataframe thead th {\n",
       "        text-align: right;\n",
       "    }\n",
       "</style>\n",
       "<table border=\"1\" class=\"dataframe\">\n",
       "  <thead>\n",
       "    <tr style=\"text-align: right;\">\n",
       "      <th></th>\n",
       "      <th>quater</th>\n",
       "      <th>Sales</th>\n",
       "      <th>months</th>\n",
       "      <th>Apr</th>\n",
       "      <th>Jan</th>\n",
       "      <th>Jul</th>\n",
       "      <th>Oct</th>\n",
       "      <th>t</th>\n",
       "      <th>t_squared</th>\n",
       "      <th>log_Sales</th>\n",
       "    </tr>\n",
       "  </thead>\n",
       "  <tbody>\n",
       "    <tr>\n",
       "      <th>0</th>\n",
       "      <td>Jan-1986</td>\n",
       "      <td>1734.827000</td>\n",
       "      <td>Jan</td>\n",
       "      <td>0</td>\n",
       "      <td>1</td>\n",
       "      <td>0</td>\n",
       "      <td>0</td>\n",
       "      <td>1</td>\n",
       "      <td>1</td>\n",
       "      <td>7.458663</td>\n",
       "    </tr>\n",
       "    <tr>\n",
       "      <th>1</th>\n",
       "      <td>Apr-1986</td>\n",
       "      <td>2244.960999</td>\n",
       "      <td>Apr</td>\n",
       "      <td>1</td>\n",
       "      <td>0</td>\n",
       "      <td>0</td>\n",
       "      <td>0</td>\n",
       "      <td>2</td>\n",
       "      <td>4</td>\n",
       "      <td>7.716443</td>\n",
       "    </tr>\n",
       "    <tr>\n",
       "      <th>2</th>\n",
       "      <td>Jul-1986</td>\n",
       "      <td>2533.804993</td>\n",
       "      <td>Jul</td>\n",
       "      <td>0</td>\n",
       "      <td>0</td>\n",
       "      <td>1</td>\n",
       "      <td>0</td>\n",
       "      <td>3</td>\n",
       "      <td>9</td>\n",
       "      <td>7.837477</td>\n",
       "    </tr>\n",
       "    <tr>\n",
       "      <th>3</th>\n",
       "      <td>Oct-1986</td>\n",
       "      <td>2154.962997</td>\n",
       "      <td>Oct</td>\n",
       "      <td>0</td>\n",
       "      <td>0</td>\n",
       "      <td>0</td>\n",
       "      <td>1</td>\n",
       "      <td>4</td>\n",
       "      <td>16</td>\n",
       "      <td>7.675529</td>\n",
       "    </tr>\n",
       "    <tr>\n",
       "      <th>4</th>\n",
       "      <td>Jan-1987</td>\n",
       "      <td>1547.818996</td>\n",
       "      <td>Jan</td>\n",
       "      <td>0</td>\n",
       "      <td>1</td>\n",
       "      <td>0</td>\n",
       "      <td>0</td>\n",
       "      <td>5</td>\n",
       "      <td>25</td>\n",
       "      <td>7.344602</td>\n",
       "    </tr>\n",
       "  </tbody>\n",
       "</table>\n",
       "</div>"
      ],
      "text/plain": [
       "     quater        Sales months  Apr  Jan  Jul  Oct  t  t_squared  log_Sales\n",
       "0  Jan-1986  1734.827000    Jan    0    1    0    0  1          1   7.458663\n",
       "1  Apr-1986  2244.960999    Apr    1    0    0    0  2          4   7.716443\n",
       "2  Jul-1986  2533.804993    Jul    0    0    1    0  3          9   7.837477\n",
       "3  Oct-1986  2154.962997    Oct    0    0    0    1  4         16   7.675529\n",
       "4  Jan-1987  1547.818996    Jan    0    1    0    0  5         25   7.344602"
      ]
     },
     "execution_count": 20,
     "metadata": {},
     "output_type": "execute_result"
    }
   ],
   "source": [
    "data1.head()"
   ]
  },
  {
   "cell_type": "code",
   "execution_count": 21,
   "id": "699522e9",
   "metadata": {},
   "outputs": [
    {
     "data": {
      "text/html": [
       "<div>\n",
       "<style scoped>\n",
       "    .dataframe tbody tr th:only-of-type {\n",
       "        vertical-align: middle;\n",
       "    }\n",
       "\n",
       "    .dataframe tbody tr th {\n",
       "        vertical-align: top;\n",
       "    }\n",
       "\n",
       "    .dataframe thead th {\n",
       "        text-align: right;\n",
       "    }\n",
       "</style>\n",
       "<table border=\"1\" class=\"dataframe\">\n",
       "  <thead>\n",
       "    <tr style=\"text-align: right;\">\n",
       "      <th></th>\n",
       "      <th>quater</th>\n",
       "      <th>Sales</th>\n",
       "      <th>months</th>\n",
       "      <th>Apr</th>\n",
       "      <th>Jan</th>\n",
       "      <th>Jul</th>\n",
       "      <th>Oct</th>\n",
       "      <th>t</th>\n",
       "      <th>t_squared</th>\n",
       "      <th>log_Sales</th>\n",
       "    </tr>\n",
       "  </thead>\n",
       "  <tbody>\n",
       "    <tr>\n",
       "      <th>37</th>\n",
       "      <td>Apr-1995</td>\n",
       "      <td>4936.0</td>\n",
       "      <td>Apr</td>\n",
       "      <td>1</td>\n",
       "      <td>0</td>\n",
       "      <td>0</td>\n",
       "      <td>0</td>\n",
       "      <td>38</td>\n",
       "      <td>1444</td>\n",
       "      <td>8.504311</td>\n",
       "    </tr>\n",
       "    <tr>\n",
       "      <th>38</th>\n",
       "      <td>Jul-1995</td>\n",
       "      <td>4895.0</td>\n",
       "      <td>Jul</td>\n",
       "      <td>0</td>\n",
       "      <td>0</td>\n",
       "      <td>1</td>\n",
       "      <td>0</td>\n",
       "      <td>39</td>\n",
       "      <td>1521</td>\n",
       "      <td>8.495970</td>\n",
       "    </tr>\n",
       "    <tr>\n",
       "      <th>39</th>\n",
       "      <td>Oct-1995</td>\n",
       "      <td>4333.0</td>\n",
       "      <td>Oct</td>\n",
       "      <td>0</td>\n",
       "      <td>0</td>\n",
       "      <td>0</td>\n",
       "      <td>1</td>\n",
       "      <td>40</td>\n",
       "      <td>1600</td>\n",
       "      <td>8.374015</td>\n",
       "    </tr>\n",
       "    <tr>\n",
       "      <th>40</th>\n",
       "      <td>Jan-1996</td>\n",
       "      <td>4194.0</td>\n",
       "      <td>Jan</td>\n",
       "      <td>0</td>\n",
       "      <td>1</td>\n",
       "      <td>0</td>\n",
       "      <td>0</td>\n",
       "      <td>41</td>\n",
       "      <td>1681</td>\n",
       "      <td>8.341410</td>\n",
       "    </tr>\n",
       "    <tr>\n",
       "      <th>41</th>\n",
       "      <td>Apr-1996</td>\n",
       "      <td>5253.0</td>\n",
       "      <td>Apr</td>\n",
       "      <td>1</td>\n",
       "      <td>0</td>\n",
       "      <td>0</td>\n",
       "      <td>0</td>\n",
       "      <td>42</td>\n",
       "      <td>1764</td>\n",
       "      <td>8.566555</td>\n",
       "    </tr>\n",
       "  </tbody>\n",
       "</table>\n",
       "</div>"
      ],
      "text/plain": [
       "      quater   Sales months  Apr  Jan  Jul  Oct   t  t_squared  log_Sales\n",
       "37  Apr-1995  4936.0    Apr    1    0    0    0  38       1444   8.504311\n",
       "38  Jul-1995  4895.0    Jul    0    0    1    0  39       1521   8.495970\n",
       "39  Oct-1995  4333.0    Oct    0    0    0    1  40       1600   8.374015\n",
       "40  Jan-1996  4194.0    Jan    0    1    0    0  41       1681   8.341410\n",
       "41  Apr-1996  5253.0    Apr    1    0    0    0  42       1764   8.566555"
      ]
     },
     "execution_count": 21,
     "metadata": {},
     "output_type": "execute_result"
    }
   ],
   "source": [
    "data1.tail()"
   ]
  },
  {
   "cell_type": "code",
   "execution_count": 22,
   "id": "50f5d765",
   "metadata": {},
   "outputs": [
    {
     "data": {
      "text/html": [
       "<div>\n",
       "<style scoped>\n",
       "    .dataframe tbody tr th:only-of-type {\n",
       "        vertical-align: middle;\n",
       "    }\n",
       "\n",
       "    .dataframe tbody tr th {\n",
       "        vertical-align: top;\n",
       "    }\n",
       "\n",
       "    .dataframe thead th {\n",
       "        text-align: right;\n",
       "    }\n",
       "</style>\n",
       "<table border=\"1\" class=\"dataframe\">\n",
       "  <thead>\n",
       "    <tr style=\"text-align: right;\">\n",
       "      <th></th>\n",
       "      <th>quater</th>\n",
       "      <th>Sales</th>\n",
       "      <th>months</th>\n",
       "      <th>Apr</th>\n",
       "      <th>Jan</th>\n",
       "      <th>Jul</th>\n",
       "      <th>Oct</th>\n",
       "      <th>t</th>\n",
       "      <th>t_squared</th>\n",
       "      <th>log_Sales</th>\n",
       "      <th>Date</th>\n",
       "    </tr>\n",
       "  </thead>\n",
       "  <tbody>\n",
       "    <tr>\n",
       "      <th>0</th>\n",
       "      <td>Jan-1986</td>\n",
       "      <td>1734.827000</td>\n",
       "      <td>Jan</td>\n",
       "      <td>0</td>\n",
       "      <td>1</td>\n",
       "      <td>0</td>\n",
       "      <td>0</td>\n",
       "      <td>1</td>\n",
       "      <td>1</td>\n",
       "      <td>7.458663</td>\n",
       "      <td>1986-01-01</td>\n",
       "    </tr>\n",
       "    <tr>\n",
       "      <th>1</th>\n",
       "      <td>Apr-1986</td>\n",
       "      <td>2244.960999</td>\n",
       "      <td>Apr</td>\n",
       "      <td>1</td>\n",
       "      <td>0</td>\n",
       "      <td>0</td>\n",
       "      <td>0</td>\n",
       "      <td>2</td>\n",
       "      <td>4</td>\n",
       "      <td>7.716443</td>\n",
       "      <td>1986-04-01</td>\n",
       "    </tr>\n",
       "    <tr>\n",
       "      <th>2</th>\n",
       "      <td>Jul-1986</td>\n",
       "      <td>2533.804993</td>\n",
       "      <td>Jul</td>\n",
       "      <td>0</td>\n",
       "      <td>0</td>\n",
       "      <td>1</td>\n",
       "      <td>0</td>\n",
       "      <td>3</td>\n",
       "      <td>9</td>\n",
       "      <td>7.837477</td>\n",
       "      <td>1986-07-01</td>\n",
       "    </tr>\n",
       "    <tr>\n",
       "      <th>3</th>\n",
       "      <td>Oct-1986</td>\n",
       "      <td>2154.962997</td>\n",
       "      <td>Oct</td>\n",
       "      <td>0</td>\n",
       "      <td>0</td>\n",
       "      <td>0</td>\n",
       "      <td>1</td>\n",
       "      <td>4</td>\n",
       "      <td>16</td>\n",
       "      <td>7.675529</td>\n",
       "      <td>1986-10-01</td>\n",
       "    </tr>\n",
       "    <tr>\n",
       "      <th>4</th>\n",
       "      <td>Jan-1987</td>\n",
       "      <td>1547.818996</td>\n",
       "      <td>Jan</td>\n",
       "      <td>0</td>\n",
       "      <td>1</td>\n",
       "      <td>0</td>\n",
       "      <td>0</td>\n",
       "      <td>5</td>\n",
       "      <td>25</td>\n",
       "      <td>7.344602</td>\n",
       "      <td>1987-01-01</td>\n",
       "    </tr>\n",
       "  </tbody>\n",
       "</table>\n",
       "</div>"
      ],
      "text/plain": [
       "     quater        Sales months  Apr  Jan  Jul  Oct  t  t_squared  log_Sales  \\\n",
       "0  Jan-1986  1734.827000    Jan    0    1    0    0  1          1   7.458663   \n",
       "1  Apr-1986  2244.960999    Apr    1    0    0    0  2          4   7.716443   \n",
       "2  Jul-1986  2533.804993    Jul    0    0    1    0  3          9   7.837477   \n",
       "3  Oct-1986  2154.962997    Oct    0    0    0    1  4         16   7.675529   \n",
       "4  Jan-1987  1547.818996    Jan    0    1    0    0  5         25   7.344602   \n",
       "\n",
       "        Date  \n",
       "0 1986-01-01  \n",
       "1 1986-04-01  \n",
       "2 1986-07-01  \n",
       "3 1986-10-01  \n",
       "4 1987-01-01  "
      ]
     },
     "execution_count": 22,
     "metadata": {},
     "output_type": "execute_result"
    }
   ],
   "source": [
    "data1[\"Date\"] = pd.to_datetime(data1.quater, format=\"%b-%Y\")\n",
    "data1.head()"
   ]
  },
  {
   "cell_type": "code",
   "execution_count": 23,
   "id": "ca63c5a9",
   "metadata": {},
   "outputs": [
    {
     "data": {
      "text/html": [
       "<div>\n",
       "<style scoped>\n",
       "    .dataframe tbody tr th:only-of-type {\n",
       "        vertical-align: middle;\n",
       "    }\n",
       "\n",
       "    .dataframe tbody tr th {\n",
       "        vertical-align: top;\n",
       "    }\n",
       "\n",
       "    .dataframe thead th {\n",
       "        text-align: right;\n",
       "    }\n",
       "</style>\n",
       "<table border=\"1\" class=\"dataframe\">\n",
       "  <thead>\n",
       "    <tr style=\"text-align: right;\">\n",
       "      <th></th>\n",
       "      <th>quater</th>\n",
       "      <th>Sales</th>\n",
       "      <th>months</th>\n",
       "      <th>Apr</th>\n",
       "      <th>Jan</th>\n",
       "      <th>Jul</th>\n",
       "      <th>Oct</th>\n",
       "      <th>t</th>\n",
       "      <th>t_squared</th>\n",
       "      <th>log_Sales</th>\n",
       "      <th>Date</th>\n",
       "      <th>year</th>\n",
       "    </tr>\n",
       "  </thead>\n",
       "  <tbody>\n",
       "    <tr>\n",
       "      <th>0</th>\n",
       "      <td>Jan-1986</td>\n",
       "      <td>1734.827000</td>\n",
       "      <td>Jan</td>\n",
       "      <td>0</td>\n",
       "      <td>1</td>\n",
       "      <td>0</td>\n",
       "      <td>0</td>\n",
       "      <td>1</td>\n",
       "      <td>1</td>\n",
       "      <td>7.458663</td>\n",
       "      <td>1986-01-01</td>\n",
       "      <td>1986</td>\n",
       "    </tr>\n",
       "    <tr>\n",
       "      <th>1</th>\n",
       "      <td>Apr-1986</td>\n",
       "      <td>2244.960999</td>\n",
       "      <td>Apr</td>\n",
       "      <td>1</td>\n",
       "      <td>0</td>\n",
       "      <td>0</td>\n",
       "      <td>0</td>\n",
       "      <td>2</td>\n",
       "      <td>4</td>\n",
       "      <td>7.716443</td>\n",
       "      <td>1986-04-01</td>\n",
       "      <td>1986</td>\n",
       "    </tr>\n",
       "    <tr>\n",
       "      <th>2</th>\n",
       "      <td>Jul-1986</td>\n",
       "      <td>2533.804993</td>\n",
       "      <td>Jul</td>\n",
       "      <td>0</td>\n",
       "      <td>0</td>\n",
       "      <td>1</td>\n",
       "      <td>0</td>\n",
       "      <td>3</td>\n",
       "      <td>9</td>\n",
       "      <td>7.837477</td>\n",
       "      <td>1986-07-01</td>\n",
       "      <td>1986</td>\n",
       "    </tr>\n",
       "    <tr>\n",
       "      <th>3</th>\n",
       "      <td>Oct-1986</td>\n",
       "      <td>2154.962997</td>\n",
       "      <td>Oct</td>\n",
       "      <td>0</td>\n",
       "      <td>0</td>\n",
       "      <td>0</td>\n",
       "      <td>1</td>\n",
       "      <td>4</td>\n",
       "      <td>16</td>\n",
       "      <td>7.675529</td>\n",
       "      <td>1986-10-01</td>\n",
       "      <td>1986</td>\n",
       "    </tr>\n",
       "    <tr>\n",
       "      <th>4</th>\n",
       "      <td>Jan-1987</td>\n",
       "      <td>1547.818996</td>\n",
       "      <td>Jan</td>\n",
       "      <td>0</td>\n",
       "      <td>1</td>\n",
       "      <td>0</td>\n",
       "      <td>0</td>\n",
       "      <td>5</td>\n",
       "      <td>25</td>\n",
       "      <td>7.344602</td>\n",
       "      <td>1987-01-01</td>\n",
       "      <td>1987</td>\n",
       "    </tr>\n",
       "  </tbody>\n",
       "</table>\n",
       "</div>"
      ],
      "text/plain": [
       "     quater        Sales months  Apr  Jan  Jul  Oct  t  t_squared  log_Sales  \\\n",
       "0  Jan-1986  1734.827000    Jan    0    1    0    0  1          1   7.458663   \n",
       "1  Apr-1986  2244.960999    Apr    1    0    0    0  2          4   7.716443   \n",
       "2  Jul-1986  2533.804993    Jul    0    0    1    0  3          9   7.837477   \n",
       "3  Oct-1986  2154.962997    Oct    0    0    0    1  4         16   7.675529   \n",
       "4  Jan-1987  1547.818996    Jan    0    1    0    0  5         25   7.344602   \n",
       "\n",
       "        Date  year  \n",
       "0 1986-01-01  1986  \n",
       "1 1986-04-01  1986  \n",
       "2 1986-07-01  1986  \n",
       "3 1986-10-01  1986  \n",
       "4 1987-01-01  1987  "
      ]
     },
     "execution_count": 23,
     "metadata": {},
     "output_type": "execute_result"
    }
   ],
   "source": [
    "data1[\"year\"] = data1.Date.dt.strftime(\"%Y\")\n",
    "data1.head()"
   ]
  },
  {
   "cell_type": "code",
   "execution_count": 24,
   "id": "80c16b41",
   "metadata": {},
   "outputs": [
    {
     "data": {
      "text/plain": [
       "<AxesSubplot:xlabel='months', ylabel='year'>"
      ]
     },
     "execution_count": 24,
     "metadata": {},
     "output_type": "execute_result"
    },
    {
     "data": {
      "image/png": "[encoded data removed]",
      "text/plain": [
       "<Figure size 720x576 with 2 Axes>"
      ]
     },
     "metadata": {
      "needs_background": "light"
     },
     "output_type": "display_data"
    }
   ],
   "source": [
    "plt.figure(figsize=(10,8))\n",
    "heatmap_Y_month = pd.pivot_table(data=data1, values=\"Sales\", index=\"year\", columns=\"months\", aggfunc=\"mean\", fill_value=0)\n",
    "sns.heatmap(heatmap_Y_month, annot=True, fmt=\"g\")"
   ]
  },
  {
   "cell_type": "code",
   "execution_count": 25,
   "id": "953da9d0",
   "metadata": {},
   "outputs": [
    {
     "data": {
      "image/png": "[encoded data removed]",
      "text/plain": [
       "<Figure size 720x576 with 1 Axes>"
      ]
     },
     "metadata": {
      "needs_background": "light"
     },
     "output_type": "display_data"
    },
    {
     "data": {
      "image/png": "[encoded data removed]",
      "text/plain": [
       "<Figure size 720x576 with 1 Axes>"
      ]
     },
     "metadata": {
      "needs_background": "light"
     },
     "output_type": "display_data"
    }
   ],
   "source": [
    "plt.figure(figsize=(10,8))\n",
    "plt.subplot(211)\n",
    "sns.boxplot(x=\"months\", y=\"Sales\", data = data1)\n",
    "plt.show()\n",
    "\n",
    "plt.figure(figsize=(10,8))\n",
    "plt.subplot(212)\n",
    "sns.boxplot(x=\"year\", y=\"Sales\", data = data1)\n",
    "plt.show()"
   ]
  },
  {
   "cell_type": "code",
   "execution_count": 26,
   "id": "0d7d555c",
   "metadata": {},
   "outputs": [
    {
     "data": {
      "text/plain": [
       "<AxesSubplot:xlabel='year', ylabel='Sales'>"
      ]
     },
     "execution_count": 26,
     "metadata": {},
     "output_type": "execute_result"
    },
    {
     "data": {
      "image/png": "[encoded data removed]",
      "text/plain": [
       "<Figure size 864x288 with 1 Axes>"
      ]
     },
     "metadata": {
      "needs_background": "light"
     },
     "output_type": "display_data"
    }
   ],
   "source": [
    "plt.figure(figsize=(12,4))\n",
    "sns.lineplot(x=\"year\", y=\"Sales\", data=data1)"
   ]
  },
  {
   "cell_type": "markdown",
   "id": "15113627",
   "metadata": {},
   "source": [
    "### From all the above graphs we can say that the Cocacola sales data has an upward exponential trend with multiplicative seasonality."
   ]
  },
  {
   "cell_type": "markdown",
   "id": "c8faa8c8",
   "metadata": {},
   "source": [
    "## Splitting Data"
   ]
  },
  {
   "cell_type": "code",
   "execution_count": 27,
   "id": "4e83f406",
   "metadata": {},
   "outputs": [],
   "source": [
    "Train = data1.head(38)\n",
    "Test = data1.tail(4)"
   ]
  },
  {
   "cell_type": "markdown",
   "id": "11089cce",
   "metadata": {},
   "source": [
    "## Evaluation Metric RMSE & MAPE"
   ]
  },
  {
   "cell_type": "code",
   "execution_count": 28,
   "id": "2fab940c",
   "metadata": {},
   "outputs": [],
   "source": [
    "def RMSE(pred, org):\n",
    "    temp = np.mean((pred-org)**2)\n",
    "    return np.sqrt(temp)"
   ]
  },
  {
   "cell_type": "code",
   "execution_count": 29,
   "id": "c5c5bd74",
   "metadata": {},
   "outputs": [],
   "source": [
    "def MAPE(pred, org):\n",
    "    temp = np.abs(((pred-org)/org)*100)\n",
    "    return np.mean(temp)"
   ]
  },
  {
   "cell_type": "markdown",
   "id": "3f3a624c",
   "metadata": {},
   "source": [
    "## Building and Comparing Multiple Models to find out best model for Forecasting"
   ]
  },
  {
   "cell_type": "markdown",
   "id": "2d694971",
   "metadata": {},
   "source": [
    "## Linear model"
   ]
  },
  {
   "cell_type": "code",
   "execution_count": 30,
   "id": "54c950cb",
   "metadata": {},
   "outputs": [
    {
     "data": {
      "text/plain": [
       "38    4145.466199\n",
       "39    4213.536208\n",
       "40    4281.606217\n",
       "41    4349.676226\n",
       "dtype: float64"
      ]
     },
     "execution_count": 30,
     "metadata": {},
     "output_type": "execute_result"
    }
   ],
   "source": [
    "model_linear = smf.ols(\"Sales~t\", data=Train).fit()\n",
    "pred_linear = pd.Series(model_linear.predict(pd.DataFrame(Test[\"t\"])))\n",
    "pred_linear"
   ]
  },
  {
   "cell_type": "code",
   "execution_count": 31,
   "id": "f10870ed",
   "metadata": {},
   "outputs": [
    {
     "data": {
      "text/plain": [
       "591.5532957485534"
      ]
     },
     "execution_count": 31,
     "metadata": {},
     "output_type": "execute_result"
    }
   ],
   "source": [
    "rmse_linear = RMSE(pred_linear, Test['Sales'])\n",
    "rmse_linear"
   ]
  },
  {
   "cell_type": "code",
   "execution_count": 32,
   "id": "9ebd4937",
   "metadata": {},
   "outputs": [
    {
     "data": {
      "text/plain": [
       "9.3386221887829"
      ]
     },
     "execution_count": 32,
     "metadata": {},
     "output_type": "execute_result"
    }
   ],
   "source": [
    "mape_linear = MAPE(pred_linear, Test['Sales'])\n",
    "mape_linear"
   ]
  },
  {
   "cell_type": "markdown",
   "id": "148e5621",
   "metadata": {},
   "source": [
    "## Exponential model"
   ]
  },
  {
   "cell_type": "code",
   "execution_count": 33,
   "id": "7c292e93",
   "metadata": {},
   "outputs": [
    {
     "data": {
      "text/plain": [
       "38    4295.822022\n",
       "39    4399.046102\n",
       "40    4504.750549\n",
       "41    4612.994962\n",
       "dtype: float64"
      ]
     },
     "execution_count": 33,
     "metadata": {},
     "output_type": "execute_result"
    }
   ],
   "source": [
    "model_expo = smf.ols(\"log_Sales~t\", data=Train).fit()\n",
    "pred_expo = pd.Series(model_expo.predict(pd.DataFrame(Test[\"t\"])))\n",
    "pred_expo = np.exp(pred_expo)\n",
    "pred_expo"
   ]
  },
  {
   "cell_type": "code",
   "execution_count": 34,
   "id": "546be8ea",
   "metadata": {},
   "outputs": [
    {
     "data": {
      "text/plain": [
       "466.247973132103"
      ]
     },
     "execution_count": 34,
     "metadata": {},
     "output_type": "execute_result"
    }
   ],
   "source": [
    "rmse_expo = RMSE(pred_expo, Test['Sales'])\n",
    "rmse_expo"
   ]
  },
  {
   "cell_type": "code",
   "execution_count": 35,
   "id": "6810d1c7",
   "metadata": {},
   "outputs": [
    {
     "data": {
      "text/plain": [
       "8.339472011957547"
      ]
     },
     "execution_count": 35,
     "metadata": {},
     "output_type": "execute_result"
    }
   ],
   "source": [
    "mape_expo = MAPE(pred_expo, Test['Sales'])\n",
    "mape_expo"
   ]
  },
  {
   "cell_type": "markdown",
   "id": "8a09dd3f",
   "metadata": {},
   "source": [
    "## Quadratic Model"
   ]
  },
  {
   "cell_type": "code",
   "execution_count": 36,
   "id": "8af90e45",
   "metadata": {},
   "outputs": [
    {
     "data": {
      "text/plain": [
       "38    4669.104172\n",
       "39    4817.733869\n",
       "40    4970.391551\n",
       "41    5127.077217\n",
       "dtype: float64"
      ]
     },
     "execution_count": 36,
     "metadata": {},
     "output_type": "execute_result"
    }
   ],
   "source": [
    "model_quad = smf.ols(\"Sales~t+t_squared\", data=Train).fit()\n",
    "pred_quad = pd.Series(model_quad.predict(pd.DataFrame(Test[[\"t\",\"t_squared\"]])))\n",
    "pred_quad"
   ]
  },
  {
   "cell_type": "code",
   "execution_count": 37,
   "id": "bba20151",
   "metadata": {},
   "outputs": [
    {
     "data": {
      "text/plain": [
       "475.56183519820405"
      ]
     },
     "execution_count": 37,
     "metadata": {},
     "output_type": "execute_result"
    }
   ],
   "source": [
    "rmse_quad = RMSE(pred_quad, Test['Sales'])\n",
    "rmse_quad"
   ]
  },
  {
   "cell_type": "code",
   "execution_count": 38,
   "id": "89d80525",
   "metadata": {},
   "outputs": [
    {
     "data": {
      "text/plain": [
       "9.177743216720799"
      ]
     },
     "execution_count": 38,
     "metadata": {},
     "output_type": "execute_result"
    }
   ],
   "source": [
    "mape_quad = MAPE(pred_quad, Test['Sales'])\n",
    "mape_quad"
   ]
  },
  {
   "cell_type": "markdown",
   "id": "ef4f8380",
   "metadata": {},
   "source": [
    "## Additive Seasonality"
   ]
  },
  {
   "cell_type": "code",
   "execution_count": 39,
   "id": "220c0aba",
   "metadata": {},
   "outputs": [
    {
     "data": {
      "text/plain": [
       "38    2938.434220\n",
       "39    2712.930886\n",
       "40    2472.555199\n",
       "41    3150.000098\n",
       "dtype: float64"
      ]
     },
     "execution_count": 39,
     "metadata": {},
     "output_type": "execute_result"
    }
   ],
   "source": [
    "model_add_seas = smf.ols(\"Sales~Apr+Jan+Jul+Oct\",data=Train).fit()\n",
    "pred_add_seas = pd. Series(model_add_seas.predict(pd.DataFrame(Test[['Apr', 'Jan','Jul', 'Oct']])))\n",
    "pred_add_seas"
   ]
  },
  {
   "cell_type": "code",
   "execution_count": 40,
   "id": "ab1441cc",
   "metadata": {},
   "outputs": [
    {
     "data": {
      "text/plain": [
       "1860.0238154374442"
      ]
     },
     "execution_count": 40,
     "metadata": {},
     "output_type": "execute_result"
    }
   ],
   "source": [
    "rmse_add_seas = RMSE(pred_add_seas, Test['Sales'])\n",
    "rmse_add_seas"
   ]
  },
  {
   "cell_type": "code",
   "execution_count": 41,
   "id": "d0c4c980",
   "metadata": {},
   "outputs": [
    {
     "data": {
      "text/plain": [
       "39.609867065940406"
      ]
     },
     "execution_count": 41,
     "metadata": {},
     "output_type": "execute_result"
    }
   ],
   "source": [
    "mape_add_seas = MAPE(pred_add_seas, Test['Sales'])\n",
    "mape_add_seas"
   ]
  },
  {
   "cell_type": "markdown",
   "id": "f98d5e1d",
   "metadata": {},
   "source": [
    "## Additive Seasonality with Quadratic trend"
   ]
  },
  {
   "cell_type": "code",
   "execution_count": 42,
   "id": "92204158",
   "metadata": {},
   "outputs": [
    {
     "data": {
      "text/plain": [
       "38    4852.677797\n",
       "39    4709.186074\n",
       "40    4638.364982\n",
       "41    5406.022652\n",
       "dtype: float64"
      ]
     },
     "execution_count": 42,
     "metadata": {},
     "output_type": "execute_result"
    }
   ],
   "source": [
    "model_add_seas_quad = smf.ols(\"Sales~t+t_squared+Apr+Jan+Jul+Oct\", data=Train).fit()\n",
    "pred_add_seas_quad = pd.Series(model_add_seas_quad.predict(pd.DataFrame(Test[[\"t\",\"t_squared\",'Apr', 'Jan','Jul', 'Oct']])))\n",
    "pred_add_seas_quad"
   ]
  },
  {
   "cell_type": "code",
   "execution_count": 43,
   "id": "be71f1c1",
   "metadata": {},
   "outputs": [
    {
     "data": {
      "text/plain": [
       "301.73800721461885"
      ]
     },
     "execution_count": 43,
     "metadata": {},
     "output_type": "execute_result"
    }
   ],
   "source": [
    "rmse_add_seas_quad = RMSE(pred_add_seas_quad, Test['Sales'])\n",
    "rmse_add_seas_quad"
   ]
  },
  {
   "cell_type": "code",
   "execution_count": 44,
   "id": "2521b55d",
   "metadata": {},
   "outputs": [
    {
     "data": {
      "text/plain": [
       "5.763698215176576"
      ]
     },
     "execution_count": 44,
     "metadata": {},
     "output_type": "execute_result"
    }
   ],
   "source": [
    "mape_add_seas_quad = MAPE(pred_add_seas_quad, Test['Sales'])\n",
    "mape_add_seas_quad"
   ]
  },
  {
   "cell_type": "markdown",
   "id": "48568f02",
   "metadata": {},
   "source": [
    "## Multiplicative Seasonality"
   ]
  },
  {
   "cell_type": "code",
   "execution_count": 45,
   "id": "e5900499",
   "metadata": {},
   "outputs": [
    {
     "data": {
      "text/plain": [
       "38    2841.058902\n",
       "39    2634.665177\n",
       "40    2370.087030\n",
       "41    3019.186717\n",
       "dtype: float64"
      ]
     },
     "execution_count": 45,
     "metadata": {},
     "output_type": "execute_result"
    }
   ],
   "source": [
    "model_mul_seas = smf.ols(\"log_Sales~Apr+Jan+Jul+Oct\",data=Train).fit()\n",
    "pred_mul_seas = pd. Series(model_mul_seas.predict(pd.DataFrame(Test[['Apr', 'Jan','Jul', 'Oct']])))\n",
    "pred_mul_seas = np.exp(pred_mul_seas)\n",
    "pred_mul_seas"
   ]
  },
  {
   "cell_type": "code",
   "execution_count": 46,
   "id": "cb11b841",
   "metadata": {},
   "outputs": [
    {
     "data": {
      "text/plain": [
       "1963.3896400563394"
      ]
     },
     "execution_count": 46,
     "metadata": {},
     "output_type": "execute_result"
    }
   ],
   "source": [
    "rmse_mul_seas = RMSE(pred_mul_seas, Test['Sales'])\n",
    "rmse_mul_seas"
   ]
  },
  {
   "cell_type": "code",
   "execution_count": 47,
   "id": "e18de647",
   "metadata": {},
   "outputs": [
    {
     "data": {
      "text/plain": [
       "41.79212232383777"
      ]
     },
     "execution_count": 47,
     "metadata": {},
     "output_type": "execute_result"
    }
   ],
   "source": [
    "mape_mul_seas = MAPE(pred_mul_seas, Test['Sales'])\n",
    "mape_mul_seas"
   ]
  },
  {
   "cell_type": "markdown",
   "id": "7554f2e4",
   "metadata": {},
   "source": [
    "## Multiplicative Additive Seasonality"
   ]
  },
  {
   "cell_type": "code",
   "execution_count": 48,
   "id": "a8ca94af",
   "metadata": {},
   "outputs": [
    {
     "data": {
      "text/plain": [
       "38    4555.076459\n",
       "39    4224.164912\n",
       "40    3983.650878\n",
       "41    5074.659987\n",
       "dtype: float64"
      ]
     },
     "execution_count": 48,
     "metadata": {},
     "output_type": "execute_result"
    }
   ],
   "source": [
    "model_mul_add_seas = smf.ols(\"log_Sales~t+Apr+Jan+Jul+Oct\",data=Train).fit()\n",
    "pred_mul_add_seas = pd.Series(model_mul_add_seas.predict(pd.DataFrame(Test[[\"t\", 'Apr', 'Jan','Jul', 'Oct']])))\n",
    "pred_mul_add_seas = np.exp(pred_mul_add_seas)\n",
    "pred_mul_add_seas"
   ]
  },
  {
   "cell_type": "code",
   "execution_count": 49,
   "id": "ea55043f",
   "metadata": {},
   "outputs": [
    {
     "data": {
      "text/plain": [
       "225.52439056170465"
      ]
     },
     "execution_count": 49,
     "metadata": {},
     "output_type": "execute_result"
    }
   ],
   "source": [
    "rmse_mul_add_seas = RMSE(pred_mul_add_seas, Test['Sales'])\n",
    "rmse_mul_add_seas"
   ]
  },
  {
   "cell_type": "code",
   "execution_count": 50,
   "id": "7e44cdf4",
   "metadata": {},
   "outputs": [
    {
     "data": {
      "text/plain": [
       "4.466640825574251"
      ]
     },
     "execution_count": 50,
     "metadata": {},
     "output_type": "execute_result"
    }
   ],
   "source": [
    "mape_mul_add_seas = MAPE(pred_mul_add_seas, Test['Sales'])\n",
    "mape_mul_add_seas"
   ]
  },
  {
   "cell_type": "markdown",
   "id": "5b7b5e63",
   "metadata": {},
   "source": [
    "## Building models using Exponential Smoothing"
   ]
  },
  {
   "cell_type": "code",
   "execution_count": 51,
   "id": "be1dd79b",
   "metadata": {},
   "outputs": [],
   "source": [
    "from statsmodels.tsa.holtwinters import SimpleExpSmoothing\n",
    "from statsmodels.tsa.holtwinters import Holt\n",
    "from statsmodels.tsa.holtwinters import ExponentialSmoothing"
   ]
  },
  {
   "cell_type": "markdown",
   "id": "fb2d671a",
   "metadata": {},
   "source": [
    "## Simple Exponential Method"
   ]
  },
  {
   "cell_type": "code",
   "execution_count": 52,
   "id": "2a844157",
   "metadata": {},
   "outputs": [
    {
     "data": {
      "text/plain": [
       "38    4020.476392\n",
       "39    4020.476392\n",
       "40    4020.476392\n",
       "41    4020.476392\n",
       "dtype: float64"
      ]
     },
     "execution_count": 52,
     "metadata": {},
     "output_type": "execute_result"
    }
   ],
   "source": [
    "model_simple_expo = SimpleExpSmoothing(Train[\"Sales\"]).fit(smoothing_level=0.2)\n",
    "pred_simple_expo = model_simple_expo.predict(start=Test.index[0], end=Test.index[-1])\n",
    "pred_simple_expo"
   ]
  },
  {
   "cell_type": "code",
   "execution_count": 53,
   "id": "836c35f0",
   "metadata": {},
   "outputs": [
    {
     "data": {
      "text/plain": [
       "776.4804297702937"
      ]
     },
     "execution_count": 53,
     "metadata": {},
     "output_type": "execute_result"
    }
   ],
   "source": [
    "rmse_simple_expo = RMSE(pred_simple_expo, Test['Sales'])\n",
    "rmse_simple_expo"
   ]
  },
  {
   "cell_type": "code",
   "execution_count": 54,
   "id": "781447a2",
   "metadata": {},
   "outputs": [
    {
     "data": {
      "text/plain": [
       "13.169736636848537"
      ]
     },
     "execution_count": 54,
     "metadata": {},
     "output_type": "execute_result"
    }
   ],
   "source": [
    "mape_simple_expo = MAPE(pred_simple_expo, Test['Sales'])\n",
    "mape_simple_expo"
   ]
  },
  {
   "cell_type": "markdown",
   "id": "c9a6ce00",
   "metadata": {},
   "source": [
    "## Holt method"
   ]
  },
  {
   "cell_type": "code",
   "execution_count": 55,
   "id": "ef8e0fb2",
   "metadata": {},
   "outputs": [
    {
     "data": {
      "text/plain": [
       "38    4812.429483\n",
       "39    4978.268917\n",
       "40    5144.108351\n",
       "41    5309.947786\n",
       "dtype: float64"
      ]
     },
     "execution_count": 55,
     "metadata": {},
     "output_type": "execute_result"
    }
   ],
   "source": [
    "model_holt = Holt(Train[\"Sales\"]).fit(smoothing_trend=0.2)\n",
    "pred_holt = model_holt.predict(start=Test.index[0], end=Test.index[-1])\n",
    "pred_holt"
   ]
  },
  {
   "cell_type": "code",
   "execution_count": 56,
   "id": "d77f95ea",
   "metadata": {},
   "outputs": [
    {
     "data": {
      "text/plain": [
       "576.4414097001654"
      ]
     },
     "execution_count": 56,
     "metadata": {},
     "output_type": "execute_result"
    }
   ],
   "source": [
    "rmse_holt = RMSE(pred_holt, Test['Sales'])\n",
    "rmse_holt"
   ]
  },
  {
   "cell_type": "code",
   "execution_count": 57,
   "id": "0a7ced32",
   "metadata": {},
   "outputs": [
    {
     "data": {
      "text/plain": [
       "10.079222763428968"
      ]
     },
     "execution_count": 57,
     "metadata": {},
     "output_type": "execute_result"
    }
   ],
   "source": [
    "mape_holt = MAPE(pred_holt, Test['Sales'])\n",
    "mape_holt"
   ]
  },
  {
   "cell_type": "markdown",
   "id": "f53eeb96",
   "metadata": {},
   "source": [
    "## Holts winter exponential smoothing with multiplicative seasonality and additive trend"
   ]
  },
  {
   "cell_type": "code",
   "execution_count": 58,
   "id": "0638a7ce",
   "metadata": {},
   "outputs": [
    {
     "data": {
      "text/plain": [
       "38    4799.876431\n",
       "39    4556.764062\n",
       "40    4280.844815\n",
       "41    5364.788579\n",
       "dtype: float64"
      ]
     },
     "execution_count": 58,
     "metadata": {},
     "output_type": "execute_result"
    }
   ],
   "source": [
    "model_holt_expo = ExponentialSmoothing(Train[\"Sales\"], seasonal=\"mul\", trend=\"add\", seasonal_periods=12).fit()\n",
    "pred_holt_expo = model_holt_expo.predict(start=Test.index[0], end=Test.index[-1])\n",
    "pred_holt_expo"
   ]
  },
  {
   "cell_type": "code",
   "execution_count": 59,
   "id": "9fe09035",
   "metadata": {},
   "outputs": [
    {
     "data": {
      "text/plain": [
       "140.67476398733746"
      ]
     },
     "execution_count": 59,
     "metadata": {},
     "output_type": "execute_result"
    }
   ],
   "source": [
    "rmse_holt_expo = RMSE(pred_holt_expo, Test['Sales'])\n",
    "rmse_holt_expo"
   ]
  },
  {
   "cell_type": "code",
   "execution_count": 60,
   "id": "98aa91ba",
   "metadata": {},
   "outputs": [
    {
     "data": {
      "text/plain": [
       "2.8265613950623703"
      ]
     },
     "execution_count": 60,
     "metadata": {},
     "output_type": "execute_result"
    }
   ],
   "source": [
    "mape_holt_expo = MAPE(pred_holt_expo, Test['Sales'])\n",
    "mape_holt_expo"
   ]
  },
  {
   "cell_type": "markdown",
   "id": "6e62b2d5",
   "metadata": {},
   "source": [
    "## ARIMA model"
   ]
  },
  {
   "cell_type": "code",
   "execution_count": 61,
   "id": "309e0348",
   "metadata": {},
   "outputs": [],
   "source": [
    "from math import sqrt\n",
    "from pandas import read_csv\n",
    "from sklearn.metrics import mean_squared_error\n",
    "from statsmodels.tsa.arima_model import ARIMA"
   ]
  },
  {
   "cell_type": "markdown",
   "id": "bfc4da60",
   "metadata": {},
   "source": [
    "## Making Data Stationary"
   ]
  },
  {
   "cell_type": "code",
   "execution_count": 101,
   "id": "b1d9f820",
   "metadata": {},
   "outputs": [
    {
     "data": {
      "text/html": [
       "<div>\n",
       "<style scoped>\n",
       "    .dataframe tbody tr th:only-of-type {\n",
       "        vertical-align: middle;\n",
       "    }\n",
       "\n",
       "    .dataframe tbody tr th {\n",
       "        vertical-align: top;\n",
       "    }\n",
       "\n",
       "    .dataframe thead th {\n",
       "        text-align: right;\n",
       "    }\n",
       "</style>\n",
       "<table border=\"1\" class=\"dataframe\">\n",
       "  <thead>\n",
       "    <tr style=\"text-align: right;\">\n",
       "      <th></th>\n",
       "      <th>Sales</th>\n",
       "    </tr>\n",
       "    <tr>\n",
       "      <th>Date</th>\n",
       "      <th></th>\n",
       "    </tr>\n",
       "  </thead>\n",
       "  <tbody>\n",
       "    <tr>\n",
       "      <th>1986-01-01</th>\n",
       "      <td>1734.827000</td>\n",
       "    </tr>\n",
       "    <tr>\n",
       "      <th>1986-04-01</th>\n",
       "      <td>2244.960999</td>\n",
       "    </tr>\n",
       "    <tr>\n",
       "      <th>1986-07-01</th>\n",
       "      <td>2533.804993</td>\n",
       "    </tr>\n",
       "    <tr>\n",
       "      <th>1986-10-01</th>\n",
       "      <td>2154.962997</td>\n",
       "    </tr>\n",
       "    <tr>\n",
       "      <th>1987-01-01</th>\n",
       "      <td>1547.818996</td>\n",
       "    </tr>\n",
       "  </tbody>\n",
       "</table>\n",
       "</div>"
      ],
      "text/plain": [
       "                  Sales\n",
       "Date                   \n",
       "1986-01-01  1734.827000\n",
       "1986-04-01  2244.960999\n",
       "1986-07-01  2533.804993\n",
       "1986-10-01  2154.962997\n",
       "1987-01-01  1547.818996"
      ]
     },
     "execution_count": 101,
     "metadata": {},
     "output_type": "execute_result"
    }
   ],
   "source": [
    "data2 = data1[[\"Date\", \"Sales\"]]\n",
    "data2.to_csv(\"data3.csv\", index=False)\n",
    "series = read_csv(\"data3.csv\", index_col=0)\n",
    "series.head()"
   ]
  },
  {
   "cell_type": "code",
   "execution_count": 102,
   "id": "c3d1e9a1",
   "metadata": {},
   "outputs": [
    {
     "data": {
      "text/plain": [
       "<AxesSubplot:xlabel='Date'>"
      ]
     },
     "execution_count": 102,
     "metadata": {},
     "output_type": "execute_result"
    },
    {
     "data": {
      "image/png": "[encoded data removed]",
      "text/plain": [
       "<Figure size 432x288 with 1 Axes>"
      ]
     },
     "metadata": {
      "needs_background": "light"
     },
     "output_type": "display_data"
    }
   ],
   "source": [
    "series.plot()"
   ]
  },
  {
   "cell_type": "markdown",
   "id": "7cc6cc36",
   "metadata": {},
   "source": [
    "## Evaluation of Stationary Data"
   ]
  },
  {
   "cell_type": "code",
   "execution_count": 103,
   "id": "4ae5a07c",
   "metadata": {},
   "outputs": [],
   "source": [
    "from statsmodels.tsa.stattools import adfuller"
   ]
  },
  {
   "cell_type": "code",
   "execution_count": 104,
   "id": "4fcada1e",
   "metadata": {},
   "outputs": [],
   "source": [
    "test_result=adfuller(series['Sales'])"
   ]
  },
  {
   "cell_type": "markdown",
   "id": "08037484",
   "metadata": {},
   "source": [
    "Ho: It is non stationary.\n",
    "\n",
    "H1: It is stationary."
   ]
  },
  {
   "cell_type": "code",
   "execution_count": 105,
   "id": "d57a0eaf",
   "metadata": {},
   "outputs": [],
   "source": [
    "def adfuller_test(Sales):\n",
    "    result=adfuller(Sales)\n",
    "    labels = ['ADF Test Statistic','p-value','#Lags Used','Number of Observations Used']\n",
    "    for value,label in zip(result,labels):\n",
    "        print(label+' : '+str(value) )\n",
    "    if result[1] <= 0.05:\n",
    "        print(\"strong evidence against the null hypothesis(Ho), reject the null hypothesis. Data has no unit root and is stationary\")\n",
    "    else:\n",
    "        print(\"weak evidence against null hypothesis, time series has a unit root, indicating it is non-stationary \")"
   ]
  },
  {
   "cell_type": "code",
   "execution_count": 106,
   "id": "8742dfaf",
   "metadata": {},
   "outputs": [
    {
     "name": "stdout",
     "output_type": "stream",
     "text": [
      "ADF Test Statistic : 1.3094210180613541\n",
      "p-value : 0.9966611674081021\n",
      "#Lags Used : 7\n",
      "Number of Observations Used : 34\n",
      "weak evidence against null hypothesis, time series has a unit root, indicating it is non-stationary \n"
     ]
    }
   ],
   "source": [
    "adfuller_test(series['Sales'])"
   ]
  },
  {
   "cell_type": "markdown",
   "id": "43c1e977",
   "metadata": {},
   "source": [
    "## Log Transform"
   ]
  },
  {
   "cell_type": "code",
   "execution_count": 107,
   "id": "70283d25",
   "metadata": {},
   "outputs": [
    {
     "data": {
      "text/html": [
       "<div>\n",
       "<style scoped>\n",
       "    .dataframe tbody tr th:only-of-type {\n",
       "        vertical-align: middle;\n",
       "    }\n",
       "\n",
       "    .dataframe tbody tr th {\n",
       "        vertical-align: top;\n",
       "    }\n",
       "\n",
       "    .dataframe thead th {\n",
       "        text-align: right;\n",
       "    }\n",
       "</style>\n",
       "<table border=\"1\" class=\"dataframe\">\n",
       "  <thead>\n",
       "    <tr style=\"text-align: right;\">\n",
       "      <th></th>\n",
       "      <th>Sales</th>\n",
       "      <th>log_Sales</th>\n",
       "    </tr>\n",
       "    <tr>\n",
       "      <th>Date</th>\n",
       "      <th></th>\n",
       "      <th></th>\n",
       "    </tr>\n",
       "  </thead>\n",
       "  <tbody>\n",
       "    <tr>\n",
       "      <th>1986-01-01</th>\n",
       "      <td>1734.827000</td>\n",
       "      <td>7.458663</td>\n",
       "    </tr>\n",
       "    <tr>\n",
       "      <th>1986-04-01</th>\n",
       "      <td>2244.960999</td>\n",
       "      <td>7.716443</td>\n",
       "    </tr>\n",
       "    <tr>\n",
       "      <th>1986-07-01</th>\n",
       "      <td>2533.804993</td>\n",
       "      <td>7.837477</td>\n",
       "    </tr>\n",
       "    <tr>\n",
       "      <th>1986-10-01</th>\n",
       "      <td>2154.962997</td>\n",
       "      <td>7.675529</td>\n",
       "    </tr>\n",
       "    <tr>\n",
       "      <th>1987-01-01</th>\n",
       "      <td>1547.818996</td>\n",
       "      <td>7.344602</td>\n",
       "    </tr>\n",
       "  </tbody>\n",
       "</table>\n",
       "</div>"
      ],
      "text/plain": [
       "                  Sales  log_Sales\n",
       "Date                              \n",
       "1986-01-01  1734.827000   7.458663\n",
       "1986-04-01  2244.960999   7.716443\n",
       "1986-07-01  2533.804993   7.837477\n",
       "1986-10-01  2154.962997   7.675529\n",
       "1987-01-01  1547.818996   7.344602"
      ]
     },
     "execution_count": 107,
     "metadata": {},
     "output_type": "execute_result"
    }
   ],
   "source": [
    "series['log_Sales'] = np.log(series['Sales'])\n",
    "series.head()"
   ]
  },
  {
   "cell_type": "code",
   "execution_count": 108,
   "id": "af922aaa",
   "metadata": {},
   "outputs": [
    {
     "name": "stdout",
     "output_type": "stream",
     "text": [
      "ADF Test Statistic : 0.1928204403883165\n",
      "p-value : 0.971856027232625\n",
      "#Lags Used : 6\n",
      "Number of Observations Used : 35\n",
      "weak evidence against null hypothesis, time series has a unit root, indicating it is non-stationary \n"
     ]
    }
   ],
   "source": [
    "adfuller_test(series['log_Sales'])"
   ]
  },
  {
   "cell_type": "markdown",
   "id": "b6ee4147",
   "metadata": {},
   "source": [
    "## Square Root Transform"
   ]
  },
  {
   "cell_type": "code",
   "execution_count": 109,
   "id": "aacab343",
   "metadata": {},
   "outputs": [
    {
     "data": {
      "text/html": [
       "<div>\n",
       "<style scoped>\n",
       "    .dataframe tbody tr th:only-of-type {\n",
       "        vertical-align: middle;\n",
       "    }\n",
       "\n",
       "    .dataframe tbody tr th {\n",
       "        vertical-align: top;\n",
       "    }\n",
       "\n",
       "    .dataframe thead th {\n",
       "        text-align: right;\n",
       "    }\n",
       "</style>\n",
       "<table border=\"1\" class=\"dataframe\">\n",
       "  <thead>\n",
       "    <tr style=\"text-align: right;\">\n",
       "      <th></th>\n",
       "      <th>Sales</th>\n",
       "      <th>log_Sales</th>\n",
       "      <th>sqrt_Sales</th>\n",
       "    </tr>\n",
       "    <tr>\n",
       "      <th>Date</th>\n",
       "      <th></th>\n",
       "      <th></th>\n",
       "      <th></th>\n",
       "    </tr>\n",
       "  </thead>\n",
       "  <tbody>\n",
       "    <tr>\n",
       "      <th>1986-01-01</th>\n",
       "      <td>1734.827000</td>\n",
       "      <td>7.458663</td>\n",
       "      <td>41.651254</td>\n",
       "    </tr>\n",
       "    <tr>\n",
       "      <th>1986-04-01</th>\n",
       "      <td>2244.960999</td>\n",
       "      <td>7.716443</td>\n",
       "      <td>47.381019</td>\n",
       "    </tr>\n",
       "    <tr>\n",
       "      <th>1986-07-01</th>\n",
       "      <td>2533.804993</td>\n",
       "      <td>7.837477</td>\n",
       "      <td>50.336915</td>\n",
       "    </tr>\n",
       "    <tr>\n",
       "      <th>1986-10-01</th>\n",
       "      <td>2154.962997</td>\n",
       "      <td>7.675529</td>\n",
       "      <td>46.421579</td>\n",
       "    </tr>\n",
       "    <tr>\n",
       "      <th>1987-01-01</th>\n",
       "      <td>1547.818996</td>\n",
       "      <td>7.344602</td>\n",
       "      <td>39.342331</td>\n",
       "    </tr>\n",
       "  </tbody>\n",
       "</table>\n",
       "</div>"
      ],
      "text/plain": [
       "                  Sales  log_Sales  sqrt_Sales\n",
       "Date                                          \n",
       "1986-01-01  1734.827000   7.458663   41.651254\n",
       "1986-04-01  2244.960999   7.716443   47.381019\n",
       "1986-07-01  2533.804993   7.837477   50.336915\n",
       "1986-10-01  2154.962997   7.675529   46.421579\n",
       "1987-01-01  1547.818996   7.344602   39.342331"
      ]
     },
     "execution_count": 109,
     "metadata": {},
     "output_type": "execute_result"
    }
   ],
   "source": [
    "series['sqrt_Sales'] = np.sqrt(series['Sales'])\n",
    "series.head()"
   ]
  },
  {
   "cell_type": "code",
   "execution_count": 110,
   "id": "800037fd",
   "metadata": {},
   "outputs": [
    {
     "name": "stdout",
     "output_type": "stream",
     "text": [
      "ADF Test Statistic : 0.8285941170578773\n",
      "p-value : 0.9920839872020732\n",
      "#Lags Used : 6\n",
      "Number of Observations Used : 35\n",
      "weak evidence against null hypothesis, time series has a unit root, indicating it is non-stationary \n"
     ]
    }
   ],
   "source": [
    "adfuller_test(series['sqrt_Sales'])"
   ]
  },
  {
   "cell_type": "markdown",
   "id": "9a4c0269",
   "metadata": {},
   "source": [
    "## Combination of SQRT and LOG Transform"
   ]
  },
  {
   "cell_type": "code",
   "execution_count": 111,
   "id": "e3b09b60",
   "metadata": {},
   "outputs": [
    {
     "data": {
      "text/html": [
       "<div>\n",
       "<style scoped>\n",
       "    .dataframe tbody tr th:only-of-type {\n",
       "        vertical-align: middle;\n",
       "    }\n",
       "\n",
       "    .dataframe tbody tr th {\n",
       "        vertical-align: top;\n",
       "    }\n",
       "\n",
       "    .dataframe thead th {\n",
       "        text-align: right;\n",
       "    }\n",
       "</style>\n",
       "<table border=\"1\" class=\"dataframe\">\n",
       "  <thead>\n",
       "    <tr style=\"text-align: right;\">\n",
       "      <th></th>\n",
       "      <th>Sales</th>\n",
       "      <th>log_Sales</th>\n",
       "      <th>sqrt_Sales</th>\n",
       "      <th>comb_Sales</th>\n",
       "    </tr>\n",
       "    <tr>\n",
       "      <th>Date</th>\n",
       "      <th></th>\n",
       "      <th></th>\n",
       "      <th></th>\n",
       "      <th></th>\n",
       "    </tr>\n",
       "  </thead>\n",
       "  <tbody>\n",
       "    <tr>\n",
       "      <th>1986-01-01</th>\n",
       "      <td>1734.827000</td>\n",
       "      <td>7.458663</td>\n",
       "      <td>41.651254</td>\n",
       "      <td>2.731055</td>\n",
       "    </tr>\n",
       "    <tr>\n",
       "      <th>1986-04-01</th>\n",
       "      <td>2244.960999</td>\n",
       "      <td>7.716443</td>\n",
       "      <td>47.381019</td>\n",
       "      <td>2.777849</td>\n",
       "    </tr>\n",
       "    <tr>\n",
       "      <th>1986-07-01</th>\n",
       "      <td>2533.804993</td>\n",
       "      <td>7.837477</td>\n",
       "      <td>50.336915</td>\n",
       "      <td>2.799549</td>\n",
       "    </tr>\n",
       "    <tr>\n",
       "      <th>1986-10-01</th>\n",
       "      <td>2154.962997</td>\n",
       "      <td>7.675529</td>\n",
       "      <td>46.421579</td>\n",
       "      <td>2.770474</td>\n",
       "    </tr>\n",
       "    <tr>\n",
       "      <th>1987-01-01</th>\n",
       "      <td>1547.818996</td>\n",
       "      <td>7.344602</td>\n",
       "      <td>39.342331</td>\n",
       "      <td>2.710093</td>\n",
       "    </tr>\n",
       "  </tbody>\n",
       "</table>\n",
       "</div>"
      ],
      "text/plain": [
       "                  Sales  log_Sales  sqrt_Sales  comb_Sales\n",
       "Date                                                      \n",
       "1986-01-01  1734.827000   7.458663   41.651254    2.731055\n",
       "1986-04-01  2244.960999   7.716443   47.381019    2.777849\n",
       "1986-07-01  2533.804993   7.837477   50.336915    2.799549\n",
       "1986-10-01  2154.962997   7.675529   46.421579    2.770474\n",
       "1987-01-01  1547.818996   7.344602   39.342331    2.710093"
      ]
     },
     "execution_count": 111,
     "metadata": {},
     "output_type": "execute_result"
    }
   ],
   "source": [
    "from numpy import sqrt\n",
    "from numpy import log\n",
    "\n",
    "series['comb_Sales'] = sqrt(log(series['Sales']))\n",
    "series.head()"
   ]
  },
  {
   "cell_type": "code",
   "execution_count": 112,
   "id": "f72a9ecb",
   "metadata": {},
   "outputs": [
    {
     "name": "stdout",
     "output_type": "stream",
     "text": [
      "ADF Test Statistic : 0.10566372750551509\n",
      "p-value : 0.9664456623872837\n",
      "#Lags Used : 6\n",
      "Number of Observations Used : 35\n",
      "weak evidence against null hypothesis, time series has a unit root, indicating it is non-stationary \n"
     ]
    }
   ],
   "source": [
    "adfuller_test(series['comb_Sales'])"
   ]
  },
  {
   "cell_type": "markdown",
   "id": "01b5ad5a",
   "metadata": {},
   "source": [
    "## Differencing"
   ]
  },
  {
   "cell_type": "code",
   "execution_count": 113,
   "id": "9809a931",
   "metadata": {},
   "outputs": [
    {
     "data": {
      "text/html": [
       "<div>\n",
       "<style scoped>\n",
       "    .dataframe tbody tr th:only-of-type {\n",
       "        vertical-align: middle;\n",
       "    }\n",
       "\n",
       "    .dataframe tbody tr th {\n",
       "        vertical-align: top;\n",
       "    }\n",
       "\n",
       "    .dataframe thead th {\n",
       "        text-align: right;\n",
       "    }\n",
       "</style>\n",
       "<table border=\"1\" class=\"dataframe\">\n",
       "  <thead>\n",
       "    <tr style=\"text-align: right;\">\n",
       "      <th></th>\n",
       "      <th>Sales</th>\n",
       "      <th>log_Sales</th>\n",
       "      <th>sqrt_Sales</th>\n",
       "      <th>comb_Sales</th>\n",
       "      <th>Seasonal_Difference</th>\n",
       "    </tr>\n",
       "    <tr>\n",
       "      <th>Date</th>\n",
       "      <th></th>\n",
       "      <th></th>\n",
       "      <th></th>\n",
       "      <th></th>\n",
       "      <th></th>\n",
       "    </tr>\n",
       "  </thead>\n",
       "  <tbody>\n",
       "    <tr>\n",
       "      <th>1986-01-01</th>\n",
       "      <td>1734.827000</td>\n",
       "      <td>7.458663</td>\n",
       "      <td>41.651254</td>\n",
       "      <td>2.731055</td>\n",
       "      <td>NaN</td>\n",
       "    </tr>\n",
       "    <tr>\n",
       "      <th>1986-04-01</th>\n",
       "      <td>2244.960999</td>\n",
       "      <td>7.716443</td>\n",
       "      <td>47.381019</td>\n",
       "      <td>2.777849</td>\n",
       "      <td>NaN</td>\n",
       "    </tr>\n",
       "    <tr>\n",
       "      <th>1986-07-01</th>\n",
       "      <td>2533.804993</td>\n",
       "      <td>7.837477</td>\n",
       "      <td>50.336915</td>\n",
       "      <td>2.799549</td>\n",
       "      <td>NaN</td>\n",
       "    </tr>\n",
       "    <tr>\n",
       "      <th>1986-10-01</th>\n",
       "      <td>2154.962997</td>\n",
       "      <td>7.675529</td>\n",
       "      <td>46.421579</td>\n",
       "      <td>2.770474</td>\n",
       "      <td>NaN</td>\n",
       "    </tr>\n",
       "    <tr>\n",
       "      <th>1987-01-01</th>\n",
       "      <td>1547.818996</td>\n",
       "      <td>7.344602</td>\n",
       "      <td>39.342331</td>\n",
       "      <td>2.710093</td>\n",
       "      <td>-187.008004</td>\n",
       "    </tr>\n",
       "    <tr>\n",
       "      <th>1987-04-01</th>\n",
       "      <td>2104.411995</td>\n",
       "      <td>7.651791</td>\n",
       "      <td>45.873871</td>\n",
       "      <td>2.766187</td>\n",
       "      <td>-140.549004</td>\n",
       "    </tr>\n",
       "  </tbody>\n",
       "</table>\n",
       "</div>"
      ],
      "text/plain": [
       "                  Sales  log_Sales  sqrt_Sales  comb_Sales  \\\n",
       "Date                                                         \n",
       "1986-01-01  1734.827000   7.458663   41.651254    2.731055   \n",
       "1986-04-01  2244.960999   7.716443   47.381019    2.777849   \n",
       "1986-07-01  2533.804993   7.837477   50.336915    2.799549   \n",
       "1986-10-01  2154.962997   7.675529   46.421579    2.770474   \n",
       "1987-01-01  1547.818996   7.344602   39.342331    2.710093   \n",
       "1987-04-01  2104.411995   7.651791   45.873871    2.766187   \n",
       "\n",
       "            Seasonal_Difference  \n",
       "Date                             \n",
       "1986-01-01                  NaN  \n",
       "1986-04-01                  NaN  \n",
       "1986-07-01                  NaN  \n",
       "1986-10-01                  NaN  \n",
       "1987-01-01          -187.008004  \n",
       "1987-04-01          -140.549004  "
      ]
     },
     "execution_count": 113,
     "metadata": {},
     "output_type": "execute_result"
    }
   ],
   "source": [
    "series['Seasonal_Difference']=series['Sales']-series['Sales'].shift(4)\n",
    "series.head(6)"
   ]
  },
  {
   "cell_type": "code",
   "execution_count": 114,
   "id": "a089cba3",
   "metadata": {},
   "outputs": [
    {
     "name": "stdout",
     "output_type": "stream",
     "text": [
      "ADF Test Statistic : -2.6101117501343674\n",
      "p-value : 0.09092533175538114\n",
      "#Lags Used : 0\n",
      "Number of Observations Used : 37\n",
      "weak evidence against null hypothesis, time series has a unit root, indicating it is non-stationary \n"
     ]
    }
   ],
   "source": [
    "adfuller_test(series['Seasonal_Difference'].dropna())"
   ]
  },
  {
   "cell_type": "markdown",
   "id": "3ad13bd4",
   "metadata": {},
   "source": [
    "## Combination of Log Transform with Differencing"
   ]
  },
  {
   "cell_type": "code",
   "execution_count": 115,
   "id": "b5d70057",
   "metadata": {},
   "outputs": [
    {
     "data": {
      "text/html": [
       "<div>\n",
       "<style scoped>\n",
       "    .dataframe tbody tr th:only-of-type {\n",
       "        vertical-align: middle;\n",
       "    }\n",
       "\n",
       "    .dataframe tbody tr th {\n",
       "        vertical-align: top;\n",
       "    }\n",
       "\n",
       "    .dataframe thead th {\n",
       "        text-align: right;\n",
       "    }\n",
       "</style>\n",
       "<table border=\"1\" class=\"dataframe\">\n",
       "  <thead>\n",
       "    <tr style=\"text-align: right;\">\n",
       "      <th></th>\n",
       "      <th>Sales</th>\n",
       "      <th>log_Sales</th>\n",
       "      <th>sqrt_Sales</th>\n",
       "      <th>comb_Sales</th>\n",
       "      <th>Seasonal_Difference</th>\n",
       "      <th>log_Sales_Difference</th>\n",
       "    </tr>\n",
       "    <tr>\n",
       "      <th>Date</th>\n",
       "      <th></th>\n",
       "      <th></th>\n",
       "      <th></th>\n",
       "      <th></th>\n",
       "      <th></th>\n",
       "      <th></th>\n",
       "    </tr>\n",
       "  </thead>\n",
       "  <tbody>\n",
       "    <tr>\n",
       "      <th>1986-01-01</th>\n",
       "      <td>1734.827000</td>\n",
       "      <td>7.458663</td>\n",
       "      <td>41.651254</td>\n",
       "      <td>2.731055</td>\n",
       "      <td>NaN</td>\n",
       "      <td>NaN</td>\n",
       "    </tr>\n",
       "    <tr>\n",
       "      <th>1986-04-01</th>\n",
       "      <td>2244.960999</td>\n",
       "      <td>7.716443</td>\n",
       "      <td>47.381019</td>\n",
       "      <td>2.777849</td>\n",
       "      <td>NaN</td>\n",
       "      <td>NaN</td>\n",
       "    </tr>\n",
       "    <tr>\n",
       "      <th>1986-07-01</th>\n",
       "      <td>2533.804993</td>\n",
       "      <td>7.837477</td>\n",
       "      <td>50.336915</td>\n",
       "      <td>2.799549</td>\n",
       "      <td>NaN</td>\n",
       "      <td>NaN</td>\n",
       "    </tr>\n",
       "    <tr>\n",
       "      <th>1986-10-01</th>\n",
       "      <td>2154.962997</td>\n",
       "      <td>7.675529</td>\n",
       "      <td>46.421579</td>\n",
       "      <td>2.770474</td>\n",
       "      <td>NaN</td>\n",
       "      <td>NaN</td>\n",
       "    </tr>\n",
       "    <tr>\n",
       "      <th>1987-01-01</th>\n",
       "      <td>1547.818996</td>\n",
       "      <td>7.344602</td>\n",
       "      <td>39.342331</td>\n",
       "      <td>2.710093</td>\n",
       "      <td>-187.008004</td>\n",
       "      <td>-0.114061</td>\n",
       "    </tr>\n",
       "    <tr>\n",
       "      <th>1987-04-01</th>\n",
       "      <td>2104.411995</td>\n",
       "      <td>7.651791</td>\n",
       "      <td>45.873871</td>\n",
       "      <td>2.766187</td>\n",
       "      <td>-140.549004</td>\n",
       "      <td>-0.064652</td>\n",
       "    </tr>\n",
       "  </tbody>\n",
       "</table>\n",
       "</div>"
      ],
      "text/plain": [
       "                  Sales  log_Sales  sqrt_Sales  comb_Sales  \\\n",
       "Date                                                         \n",
       "1986-01-01  1734.827000   7.458663   41.651254    2.731055   \n",
       "1986-04-01  2244.960999   7.716443   47.381019    2.777849   \n",
       "1986-07-01  2533.804993   7.837477   50.336915    2.799549   \n",
       "1986-10-01  2154.962997   7.675529   46.421579    2.770474   \n",
       "1987-01-01  1547.818996   7.344602   39.342331    2.710093   \n",
       "1987-04-01  2104.411995   7.651791   45.873871    2.766187   \n",
       "\n",
       "            Seasonal_Difference  log_Sales_Difference  \n",
       "Date                                                   \n",
       "1986-01-01                  NaN                   NaN  \n",
       "1986-04-01                  NaN                   NaN  \n",
       "1986-07-01                  NaN                   NaN  \n",
       "1986-10-01                  NaN                   NaN  \n",
       "1987-01-01          -187.008004             -0.114061  \n",
       "1987-04-01          -140.549004             -0.064652  "
      ]
     },
     "execution_count": 115,
     "metadata": {},
     "output_type": "execute_result"
    }
   ],
   "source": [
    "series['log_Sales_Difference']=series['log_Sales']-series['log_Sales'].shift(4)\n",
    "series.head(6)"
   ]
  },
  {
   "cell_type": "code",
   "execution_count": 116,
   "id": "ddebfbb8",
   "metadata": {},
   "outputs": [
    {
     "name": "stdout",
     "output_type": "stream",
     "text": [
      "ADF Test Statistic : -5.2385457002228435\n",
      "p-value : 7.331185974954689e-06\n",
      "#Lags Used : 2\n",
      "Number of Observations Used : 35\n",
      "strong evidence against the null hypothesis(Ho), reject the null hypothesis. Data has no unit root and is stationary\n"
     ]
    }
   ],
   "source": [
    "adfuller_test(series['log_Sales_Difference'].dropna())"
   ]
  },
  {
   "cell_type": "code",
   "execution_count": 117,
   "id": "de5e4bc1",
   "metadata": {},
   "outputs": [
    {
     "data": {
      "image/png": "[encoded data removed]",
      "text/plain": [
       "<Figure size 432x288 with 1 Axes>"
      ]
     },
     "metadata": {
      "needs_background": "light"
     },
     "output_type": "display_data"
    }
   ],
   "source": [
    "plt.plot(series['log_Sales_Difference'])\n",
    "plt.show()"
   ]
  },
  {
   "cell_type": "markdown",
   "id": "2ab5cb3f",
   "metadata": {},
   "source": [
    "## Splitting Data"
   ]
  },
  {
   "cell_type": "code",
   "execution_count": 84,
   "id": "1bf373fc",
   "metadata": {},
   "outputs": [
    {
     "name": "stdout",
     "output_type": "stream",
     "text": [
      "dataset 38, validation 4\n"
     ]
    }
   ],
   "source": [
    "series1 = read_csv(\"data3.csv\", index_col=0)\n",
    "split_point = len(series1)-4\n",
    "dataset, validation = series1[0:split_point], series1[split_point:]\n",
    "print(\"dataset %d, validation %d\" % (len(dataset), len(validation)))"
   ]
  },
  {
   "cell_type": "code",
   "execution_count": 85,
   "id": "81be5275",
   "metadata": {},
   "outputs": [],
   "source": [
    "dataset.to_csv(\"dataset.csv\", header=False)\n",
    "validation.to_csv(\"validation.csv\", header=False)"
   ]
  },
  {
   "cell_type": "markdown",
   "id": "dcf3874d",
   "metadata": {},
   "source": [
    "## Persistence/ Base model"
   ]
  },
  {
   "cell_type": "code",
   "execution_count": 86,
   "id": "f9e8d05c",
   "metadata": {},
   "outputs": [],
   "source": [
    "train = read_csv(\"dataset.csv\", header=None, index_col=0, parse_dates=True, squeeze=True)\n",
    "\n",
    "X = train.values\n",
    "X = X.astype(\"float32\")\n",
    "train_size = int(len(X) * 0.50)\n",
    "train, test = X[0:train_size], X[train_size:]"
   ]
  },
  {
   "cell_type": "code",
   "execution_count": 87,
   "id": "96917393",
   "metadata": {},
   "outputs": [
    {
     "name": "stdout",
     "output_type": "stream",
     "text": [
      ">Predicted=2792.754, Expected=2556.010\n",
      ">Predicted=2556.010, Expected=2480.974\n",
      ">Predicted=2480.974, Expected=3039.523\n",
      ">Predicted=3039.523, Expected=3172.116\n",
      ">Predicted=3172.116, Expected=2879.001\n",
      ">Predicted=2879.001, Expected=2772.000\n",
      ">Predicted=2772.000, Expected=3550.000\n",
      ">Predicted=3550.000, Expected=3508.000\n",
      ">Predicted=3508.000, Expected=3243.860\n",
      ">Predicted=3243.860, Expected=3056.000\n",
      ">Predicted=3056.000, Expected=3899.000\n",
      ">Predicted=3899.000, Expected=3629.000\n",
      ">Predicted=3629.000, Expected=3373.000\n",
      ">Predicted=3373.000, Expected=3352.000\n",
      ">Predicted=3352.000, Expected=4342.000\n",
      ">Predicted=4342.000, Expected=4461.000\n",
      ">Predicted=4461.000, Expected=4017.000\n",
      ">Predicted=4017.000, Expected=3854.000\n",
      ">Predicted=3854.000, Expected=4936.000\n",
      "RMSE: 483.351\n"
     ]
    }
   ],
   "source": [
    "history = [X for X in train]\n",
    "predictions = list()\n",
    "\n",
    "for i in range (len(test)):\n",
    "    yhat = history[-1]\n",
    "    predictions.append(yhat)\n",
    "    \n",
    "    obs = test[i]\n",
    "    history.append(obs) \n",
    "    print(\">Predicted=%.3f, Expected=%.3f\" % (yhat, obs))\n",
    "        \n",
    "rmse = sqrt(mean_squared_error(test, predictions))\n",
    "print(\"RMSE: %.3f\" % rmse)"
   ]
  },
  {
   "cell_type": "markdown",
   "id": "72e0756f",
   "metadata": {},
   "source": [
    "## ARIMA Hyperparameters"
   ]
  },
  {
   "cell_type": "code",
   "execution_count": 88,
   "id": "f1e1db18",
   "metadata": {},
   "outputs": [],
   "source": [
    "def evaluate_arima_model(X, arima_order):\n",
    "    X = X.astype(\"float32\")\n",
    "    train_size = int(len(X) * 0.50)\n",
    "    train, test = X[0:train_size], X[train_size:]\n",
    "    \n",
    "    history = [X for X in train]\n",
    "    predictions = list()\n",
    "    \n",
    "    for t in range(len(test)):\n",
    "        model = ARIMA(history, order=arima_order)\n",
    "        model_fit = model.fit(disp=0)\n",
    "        yhat = model_fit.forecast()[0]\n",
    "        predictions.append(yhat)\n",
    "        history.append(test[t])\n",
    "    rmse = sqrt(mean_squared_error(test, predictions))\n",
    "    return rmse"
   ]
  },
  {
   "cell_type": "markdown",
   "id": "82a138d1",
   "metadata": {},
   "source": [
    "## Grid search for p,d,q values"
   ]
  },
  {
   "cell_type": "code",
   "execution_count": 89,
   "id": "da769f0a",
   "metadata": {},
   "outputs": [],
   "source": [
    "def evaluate_models(dataset, p_values, d_values, q_values):\n",
    "    dataset = dataset.astype(\"float32\")\n",
    "    best_score, best_cfg = float(\"inf\"), None\n",
    "    for p in p_values:\n",
    "        for d in d_values:\n",
    "            for q in q_values:\n",
    "                order = (p, d, q)\n",
    "                try:\n",
    "                    rmse = evaluate_arima_model(train, order)\n",
    "                    if rmse < best_score:\n",
    "                        best_score, best_cfg = rmse, order\n",
    "                    print(\"ARIMA%S RMSE=%.3f\" % (order, rmse))\n",
    "                except:\n",
    "                    continue\n",
    "    print(\"Best ARIMA%s RMSE=%.3f\" % (best_cfg, best_score))"
   ]
  },
  {
   "cell_type": "code",
   "execution_count": 133,
   "id": "ebe94313",
   "metadata": {},
   "outputs": [
    {
     "name": "stdout",
     "output_type": "stream",
     "text": [
      "Best ARIMA(4, 1, 0) RMSE=175.337\n"
     ]
    }
   ],
   "source": [
    "train = read_csv('dataset.csv', header=None, index_col=0, parse_dates=True, squeeze=True)\n",
    "\n",
    "p_values = range(0, 5)\n",
    "d_values = range(0, 5)\n",
    "q_values = range(0, 5)\n",
    "\n",
    "\n",
    "evaluate_models(train.values, p_values, d_values, q_values)"
   ]
  },
  {
   "cell_type": "markdown",
   "id": "35ade1bf",
   "metadata": {},
   "source": [
    "## Build Model based on the optimized values"
   ]
  },
  {
   "cell_type": "code",
   "execution_count": 90,
   "id": "a5ef2eb6",
   "metadata": {},
   "outputs": [],
   "source": [
    "train = read_csv('dataset.csv', header=None, index_col=0, parse_dates=True, squeeze=True)\n",
    "X = train.values\n",
    "X = X.astype(\"float32\")\n",
    "test = read_csv('validation.csv', header=None, index_col=0, parse_dates=True, squeeze=True)"
   ]
  },
  {
   "cell_type": "code",
   "execution_count": 92,
   "id": "382511d4",
   "metadata": {},
   "outputs": [
    {
     "data": {
      "text/plain": [
       "array([4980.81739201, 4472.41782742, 4317.05639543, 5299.08483172])"
      ]
     },
     "execution_count": 92,
     "metadata": {},
     "output_type": "execute_result"
    }
   ],
   "source": [
    "model_arima = ARIMA(X, order=(4, 1, 0)).fit()\n",
    "forecast = model_arima.forecast(steps=4)[0]\n",
    "forecast"
   ]
  },
  {
   "cell_type": "code",
   "execution_count": 93,
   "id": "0256a8ea",
   "metadata": {},
   "outputs": [
    {
     "data": {
      "text/plain": [
       "585.8068804221195"
      ]
     },
     "execution_count": 93,
     "metadata": {},
     "output_type": "execute_result"
    }
   ],
   "source": [
    "rmse_arima = RMSE(forecast, test[1])\n",
    "rmse_arima"
   ]
  },
  {
   "cell_type": "code",
   "execution_count": 94,
   "id": "bb9a096c",
   "metadata": {},
   "outputs": [
    {
     "data": {
      "text/plain": [
       "10.208075558066568"
      ]
     },
     "execution_count": 94,
     "metadata": {},
     "output_type": "execute_result"
    }
   ],
   "source": [
    "mape_arima = MAPE(forecast, test[1])\n",
    "mape_arima"
   ]
  },
  {
   "cell_type": "markdown",
   "id": "f90fe5b6",
   "metadata": {},
   "source": [
    "## Conclusion"
   ]
  },
  {
   "cell_type": "code",
   "execution_count": 95,
   "id": "0fef07e8",
   "metadata": {},
   "outputs": [],
   "source": [
    "output = pd.DataFrame({\"Models\": pd.Series([\"model_linear\", \"model_expo\", \"model_quad\", \"model_add_seas\", \"model_add_seas_quad\", \"model_mul_seas\", \"model_mul_add_seas\", \"model_simple_expo\", \"model_holt\", \"model_holt_expo\", \"model_arima\"]),\n",
    "                      \"RMSE_values\": pd.Series([rmse_linear, rmse_expo, rmse_quad, rmse_add_seas, rmse_add_seas_quad, rmse_mul_seas, rmse_mul_add_seas, rmse_simple_expo, rmse_holt, rmse_holt_expo, rmse_arima]),\n",
    "                      \"MAPE_values\": pd.Series([mape_linear, mape_expo, mape_quad, mape_add_seas, mape_add_seas_quad, mape_mul_seas, mape_mul_add_seas, mape_simple_expo, mape_holt, mape_holt_expo, mape_arima])})"
   ]
  },
  {
   "cell_type": "code",
   "execution_count": 96,
   "id": "4cda0966",
   "metadata": {},
   "outputs": [
    {
     "data": {
      "text/html": [
       "<div>\n",
       "<style scoped>\n",
       "    .dataframe tbody tr th:only-of-type {\n",
       "        vertical-align: middle;\n",
       "    }\n",
       "\n",
       "    .dataframe tbody tr th {\n",
       "        vertical-align: top;\n",
       "    }\n",
       "\n",
       "    .dataframe thead th {\n",
       "        text-align: right;\n",
       "    }\n",
       "</style>\n",
       "<table border=\"1\" class=\"dataframe\">\n",
       "  <thead>\n",
       "    <tr style=\"text-align: right;\">\n",
       "      <th></th>\n",
       "      <th>Models</th>\n",
       "      <th>RMSE_values</th>\n",
       "      <th>MAPE_values</th>\n",
       "    </tr>\n",
       "  </thead>\n",
       "  <tbody>\n",
       "    <tr>\n",
       "      <th>9</th>\n",
       "      <td>model_holt_expo</td>\n",
       "      <td>140.674764</td>\n",
       "      <td>2.826561</td>\n",
       "    </tr>\n",
       "    <tr>\n",
       "      <th>6</th>\n",
       "      <td>model_mul_add_seas</td>\n",
       "      <td>225.524391</td>\n",
       "      <td>4.466641</td>\n",
       "    </tr>\n",
       "    <tr>\n",
       "      <th>4</th>\n",
       "      <td>model_add_seas_quad</td>\n",
       "      <td>301.738007</td>\n",
       "      <td>5.763698</td>\n",
       "    </tr>\n",
       "    <tr>\n",
       "      <th>1</th>\n",
       "      <td>model_expo</td>\n",
       "      <td>466.247973</td>\n",
       "      <td>8.339472</td>\n",
       "    </tr>\n",
       "    <tr>\n",
       "      <th>2</th>\n",
       "      <td>model_quad</td>\n",
       "      <td>475.561835</td>\n",
       "      <td>9.177743</td>\n",
       "    </tr>\n",
       "    <tr>\n",
       "      <th>8</th>\n",
       "      <td>model_holt</td>\n",
       "      <td>576.441410</td>\n",
       "      <td>10.079223</td>\n",
       "    </tr>\n",
       "    <tr>\n",
       "      <th>10</th>\n",
       "      <td>model_arima</td>\n",
       "      <td>585.806880</td>\n",
       "      <td>10.208076</td>\n",
       "    </tr>\n",
       "    <tr>\n",
       "      <th>0</th>\n",
       "      <td>model_linear</td>\n",
       "      <td>591.553296</td>\n",
       "      <td>9.338622</td>\n",
       "    </tr>\n",
       "    <tr>\n",
       "      <th>7</th>\n",
       "      <td>model_simple_expo</td>\n",
       "      <td>776.480430</td>\n",
       "      <td>13.169737</td>\n",
       "    </tr>\n",
       "    <tr>\n",
       "      <th>3</th>\n",
       "      <td>model_add_seas</td>\n",
       "      <td>1860.023815</td>\n",
       "      <td>39.609867</td>\n",
       "    </tr>\n",
       "    <tr>\n",
       "      <th>5</th>\n",
       "      <td>model_mul_seas</td>\n",
       "      <td>1963.389640</td>\n",
       "      <td>41.792122</td>\n",
       "    </tr>\n",
       "  </tbody>\n",
       "</table>\n",
       "</div>"
      ],
      "text/plain": [
       "                 Models  RMSE_values  MAPE_values\n",
       "9       model_holt_expo   140.674764     2.826561\n",
       "6    model_mul_add_seas   225.524391     4.466641\n",
       "4   model_add_seas_quad   301.738007     5.763698\n",
       "1            model_expo   466.247973     8.339472\n",
       "2            model_quad   475.561835     9.177743\n",
       "8            model_holt   576.441410    10.079223\n",
       "10          model_arima   585.806880    10.208076\n",
       "0          model_linear   591.553296     9.338622\n",
       "7     model_simple_expo   776.480430    13.169737\n",
       "3        model_add_seas  1860.023815    39.609867\n",
       "5        model_mul_seas  1963.389640    41.792122"
      ]
     },
     "execution_count": 96,
     "metadata": {},
     "output_type": "execute_result"
    }
   ],
   "source": [
    "output.sort_values([\"RMSE_values\"])"
   ]
  },
  {
   "cell_type": "markdown",
   "id": "a69a9fbf",
   "metadata": {},
   "source": [
    "## Observation:\n",
    "    \n",
    "Model no 9 - 'model_holt_expo' built with 'Holts winter exponential smoothing' method gives the best RMSE and MAPE values, hence this is the best model for Forecasting of CocaCola Sales dataset."
   ]
  },
  {
   "cell_type": "code",
   "execution_count": null,
   "id": "5b398629",
   "metadata": {},
   "outputs": [],
   "source": []
  }
 ],
 "metadata": {
  "kernelspec": {
   "display_name": "Python 3 (ipykernel)",
   "language": "python",
   "name": "python3"
  },
  "language_info": {
   "codemirror_mode": {
    "name": "ipython",
    "version": 3
   },
   "file_extension": ".py",
   "mimetype": "text/x-python",
   "name": "python",
   "nbconvert_exporter": "python",
   "pygments_lexer": "ipython3",
   "version": "3.9.7"
  }
 },
 "nbformat": 4,
 "nbformat_minor": 5
}
